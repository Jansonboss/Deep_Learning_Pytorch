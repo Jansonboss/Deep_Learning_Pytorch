{
 "cells": [
  {
   "cell_type": "code",
   "execution_count": 16,
   "metadata": {},
   "outputs": [],
   "source": [
    "import pandas as pd\n",
    "import numpy as np\n",
    "import torch.nn as nn\n",
    "import torch \n",
    "from torch.utils.data import DataLoader, Dataset\n",
    "from sklearn.model_selection import train_test_split\n",
    "\n",
    "import matplotlib.pyplot as plt"
   ]
  },
  {
   "cell_type": "code",
   "execution_count": 5,
   "metadata": {},
   "outputs": [],
   "source": [
    "class Linear_DataSet(Dataset):\n",
    "\n",
    "\tdef __init__(self, beta0, beta1, size):\n",
    "\t\tself.noise = torch.rand(size, 1)\n",
    "\t\tself.X = torch.range(1, size)\n",
    "\t\tself.y = beta1 * self.X + self.noise"
   ]
  },
  {
   "cell_type": "code",
   "execution_count": 18,
   "metadata": {},
   "outputs": [
    {
     "ename": "TypeError",
     "evalue": "rand(): argument 'size' must be tuple of ints, but found element of type tuple at pos 3",
     "output_type": "error",
     "traceback": [
      "\u001b[0;31m---------------------------------------------------------------------------\u001b[0m",
      "\u001b[0;31mTypeError\u001b[0m                                 Traceback (most recent call last)",
      "\u001b[0;32m<ipython-input-18-724efa3447f1>\u001b[0m in \u001b[0;36m<module>\u001b[0;34m\u001b[0m\n\u001b[0;32m----> 1\u001b[0;31m \u001b[0mnoise\u001b[0m \u001b[0;34m=\u001b[0m \u001b[0mtorch\u001b[0m\u001b[0;34m.\u001b[0m\u001b[0mrand\u001b[0m\u001b[0;34m(\u001b[0m\u001b[0;34m-\u001b[0m\u001b[0;36m10\u001b[0m\u001b[0;34m,\u001b[0m \u001b[0;36m10\u001b[0m\u001b[0;34m,\u001b[0m \u001b[0;34m(\u001b[0m\u001b[0;36m100\u001b[0m\u001b[0;34m,\u001b[0m \u001b[0;36m1\u001b[0m\u001b[0;34m)\u001b[0m\u001b[0;34m)\u001b[0m\u001b[0;34m\u001b[0m\u001b[0;34m\u001b[0m\u001b[0m\n\u001b[0m\u001b[1;32m      2\u001b[0m \u001b[0mX\u001b[0m \u001b[0;34m=\u001b[0m \u001b[0;36m10\u001b[0m \u001b[0;34m*\u001b[0m \u001b[0mtorch\u001b[0m\u001b[0;34m.\u001b[0m\u001b[0mrange\u001b[0m\u001b[0;34m(\u001b[0m\u001b[0;36m1\u001b[0m\u001b[0;34m,\u001b[0m \u001b[0;36m100\u001b[0m\u001b[0;34m)\u001b[0m\u001b[0;34m.\u001b[0m\u001b[0mreshape\u001b[0m\u001b[0;34m(\u001b[0m\u001b[0;36m100\u001b[0m\u001b[0;34m,\u001b[0m \u001b[0;36m1\u001b[0m\u001b[0;34m)\u001b[0m\u001b[0;34m\u001b[0m\u001b[0;34m\u001b[0m\u001b[0m\n",
      "\u001b[0;31mTypeError\u001b[0m: rand(): argument 'size' must be tuple of ints, but found element of type tuple at pos 3"
     ]
    }
   ],
   "source": [
    "noise = torch.rand(100, 1)\n",
    "X = 10 * torch.range(1, 100).reshape(100, 1)\n"
   ]
  },
  {
   "cell_type": "code",
   "execution_count": 17,
   "metadata": {},
   "outputs": [
    {
     "data": {
      "text/plain": [
       "[<matplotlib.lines.Line2D at 0x7f93701f6a90>]"
      ]
     },
     "execution_count": 17,
     "metadata": {},
     "output_type": "execute_result"
    },
    {
     "data": {
      "image/png": "[encoded data removed]",
      "text/plain": [
       "<Figure size 432x288 with 1 Axes>"
      ]
     },
     "metadata": {
      "needs_background": "light"
     },
     "output_type": "display_data"
    }
   ],
   "source": [
    "plt.plot(X + noise)"
   ]
  },
  {
   "cell_type": "code",
   "execution_count": 12,
   "metadata": {},
   "outputs": [
    {
     "data": {
      "text/plain": [
       "tensor([[0.4223],\n",
       "        [0.1490],\n",
       "        [0.3656],\n",
       "        [0.1280],\n",
       "        [0.4973],\n",
       "        [0.2739],\n",
       "        [0.0353],\n",
       "        [0.9382],\n",
       "        [0.8057],\n",
       "        [0.8428],\n",
       "        [0.3706],\n",
       "        [0.8494],\n",
       "        [0.7364],\n",
       "        [0.2180],\n",
       "        [0.2172],\n",
       "        [0.7865],\n",
       "        [0.9656],\n",
       "        [0.6507],\n",
       "        [0.0513],\n",
       "        [0.2260],\n",
       "        [0.3006],\n",
       "        [0.9992],\n",
       "        [0.3169],\n",
       "        [0.1809],\n",
       "        [0.0044],\n",
       "        [0.9242],\n",
       "        [0.7864],\n",
       "        [0.9882],\n",
       "        [0.8780],\n",
       "        [0.4476],\n",
       "        [0.2084],\n",
       "        [0.4199],\n",
       "        [0.0721],\n",
       "        [0.8285],\n",
       "        [0.5939],\n",
       "        [0.7700],\n",
       "        [0.1543],\n",
       "        [0.1585],\n",
       "        [0.3500],\n",
       "        [0.5162],\n",
       "        [0.7095],\n",
       "        [0.9100],\n",
       "        [0.5085],\n",
       "        [0.3617],\n",
       "        [0.5095],\n",
       "        [0.8692],\n",
       "        [0.6313],\n",
       "        [0.8528],\n",
       "        [0.0865],\n",
       "        [0.3681],\n",
       "        [0.9227],\n",
       "        [0.1393],\n",
       "        [0.6806],\n",
       "        [0.0391],\n",
       "        [0.7133],\n",
       "        [0.8410],\n",
       "        [0.2835],\n",
       "        [0.8281],\n",
       "        [0.9776],\n",
       "        [0.9991],\n",
       "        [0.6403],\n",
       "        [0.1416],\n",
       "        [0.8883],\n",
       "        [0.2377],\n",
       "        [0.6912],\n",
       "        [0.3649],\n",
       "        [0.9323],\n",
       "        [0.1733],\n",
       "        [0.8499],\n",
       "        [0.9965],\n",
       "        [0.4476],\n",
       "        [0.4037],\n",
       "        [0.8095],\n",
       "        [0.3109],\n",
       "        [0.3105],\n",
       "        [0.4060],\n",
       "        [0.0515],\n",
       "        [0.8543],\n",
       "        [0.7860],\n",
       "        [0.1971],\n",
       "        [0.2890],\n",
       "        [0.7025],\n",
       "        [0.3955],\n",
       "        [0.7443],\n",
       "        [0.7737],\n",
       "        [0.2825],\n",
       "        [0.3757],\n",
       "        [0.1697],\n",
       "        [0.2358],\n",
       "        [0.2138],\n",
       "        [0.7737],\n",
       "        [0.3675],\n",
       "        [0.0578],\n",
       "        [0.6563],\n",
       "        [0.1468],\n",
       "        [0.3448],\n",
       "        [0.6662],\n",
       "        [0.5404],\n",
       "        [0.2156],\n",
       "        [0.7332]])"
      ]
     },
     "execution_count": 12,
     "metadata": {},
     "output_type": "execute_result"
    }
   ],
   "source": [
    "noise"
   ]
  },
  {
   "cell_type": "code",
   "execution_count": null,
   "metadata": {},
   "outputs": [],
   "source": []
  }
 ],
 "metadata": {
  "interpreter": {
   "hash": "3067ead486e059ec00ffe7555bdb889e6e264a24dc711bf108106cc7baee8d5d"
  },
  "kernelspec": {
   "display_name": "Python 3.8.5 64-bit ('base': conda)",
   "name": "python3"
  },
  "language_info": {
   "codemirror_mode": {
    "name": "ipython",
    "version": 3
   },
   "file_extension": ".py",
   "mimetype": "text/x-python",
   "name": "python",
   "nbconvert_exporter": "python",
   "pygments_lexer": "ipython3",
   "version": "3.8.5"
  },
  "orig_nbformat": 4
 },
 "nbformat": 4,
 "nbformat_minor": 2
}
