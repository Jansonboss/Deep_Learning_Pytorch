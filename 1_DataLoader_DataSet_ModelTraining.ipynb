{
 "cells": [
  {
   "cell_type": "code",
   "execution_count": 1,
   "source": [
    "import torch\n",
    "import numpy as np\n",
    "import matplotlib.pyplot as plt\n",
    "\n",
    "from IPython.core.interactiveshell import InteractiveShell\n",
    "InteractiveShell.ast_node_interactivity = \"all\""
   ],
   "outputs": [],
   "metadata": {
    "ExecuteTime": {
     "end_time": "2021-09-06T05:34:19.637378Z",
     "start_time": "2021-09-06T05:34:17.766202Z"
    }
   }
  },
  {
   "cell_type": "markdown",
   "source": [
    "# Table of Content :\n",
    "\n",
    "In this notebook we will be covering:\n",
    "\n",
    "* [Check GPU Availablilty](#Check-GPU-Available)\n",
    "* [Tensor and Numpy Array](#Torch-Tensor-and-Numpy-array)\n",
    "* [Torch DataSet in Pytorch](#Torch-Dataset)\n",
    "* [Create DataLoader in Pytorch](#Create-DataLoader)\n",
    "* [Training Model in Pytorch](#Modeling-Training)\n",
    "* Other Questions: \n",
    "\t* [` Super().__init__()`](#Super-and-init-in-Python)\n",
    "\t* [squeeze and unsqueeze](#Torch.squeeze())\n",
    "\t* [`__init__` and `__call__`](#Difference-init-and-call)"
   ],
   "metadata": {
    "ExecuteTime": {
     "end_time": "2021-09-06T05:49:03.325957Z",
     "start_time": "2021-09-06T05:49:03.321421Z"
    }
   }
  },
  {
   "cell_type": "markdown",
   "source": [
    "# Check GPU Available"
   ],
   "metadata": {}
  },
  {
   "cell_type": "code",
   "execution_count": 5,
   "source": [
    "def check_gpu():\n",
    "    if torch.cuda.is_available():\n",
    "        dev = torch.device(\"cuda:0\") \n",
    "        print(\"Running on the GPU\")\n",
    "        gpu_info = !nvidia-smi\n",
    "        gpu_info = '\\n'.join(gpu_info)\n",
    "        \n",
    "        if gpu_info.find('failed') >= 0:\n",
    "            print('Select the Runtime > \"Change runtime type\" menu to enable a GPU accelerator, ')\n",
    "            print('and then re-execute this cell.')\n",
    "        else:\n",
    "            print(gpu_info)\n",
    "    else:\n",
    "        dev = torch.device(\"cpu\")\n",
    "        print(\"Running on the CPU\")\n",
    "\n",
    "check_gpu()"
   ],
   "outputs": [
    {
     "output_type": "stream",
     "name": "stdout",
     "text": [
      "Running on the CPU\n"
     ]
    }
   ],
   "metadata": {}
  },
  {
   "cell_type": "code",
   "execution_count": 6,
   "source": [
    "device = torch.device(\"cuda:0\" if torch.cuda.is_available() else \"cpu\")\n",
    "\n",
    "X_train = torch.FloatTensor([0., 1., 2.])\n",
    "X_train.is_cuda # false no cuda\n",
    "X_train.to(device) # pass the X_train tensor into GPU if available else cpu\n"
   ],
   "outputs": [
    {
     "output_type": "execute_result",
     "data": {
      "text/plain": [
       "False"
      ]
     },
     "metadata": {},
     "execution_count": 6
    },
    {
     "output_type": "execute_result",
     "data": {
      "text/plain": [
       "tensor([0., 1., 2.])"
      ]
     },
     "metadata": {},
     "execution_count": 6
    }
   ],
   "metadata": {}
  },
  {
   "cell_type": "markdown",
   "source": [
    "# Torch Tensor and Numpy array"
   ],
   "metadata": {}
  },
  {
   "cell_type": "code",
   "execution_count": 7,
   "source": [
    "# array\n",
    "X_array = np.array([[1,0],[0,1]])\n",
    "# tensor\n",
    "X_tensor = torch.tensor([[1,0],[0,1]])\n",
    "\n",
    "X_array, X_tensor\n",
    "\n",
    "# can easily convert back and forth\n",
    "X_tensor.numpy(), torch.from_numpy(X_array)"
   ],
   "outputs": [
    {
     "output_type": "execute_result",
     "data": {
      "text/plain": [
       "(array([[1, 0],\n",
       "        [0, 1]]),\n",
       " tensor([[1, 0],\n",
       "         [0, 1]]))"
      ]
     },
     "metadata": {},
     "execution_count": 7
    },
    {
     "output_type": "execute_result",
     "data": {
      "text/plain": [
       "(array([[1, 0],\n",
       "        [0, 1]]),\n",
       " tensor([[1, 0],\n",
       "         [0, 1]]))"
      ]
     },
     "metadata": {},
     "execution_count": 7
    }
   ],
   "metadata": {}
  },
  {
   "cell_type": "markdown",
   "source": [
    "# Torch Dataset\n",
    "\n",
    "\n",
    "The Dataset is an abstract class which holds the recipe for producing your data\n",
    "\n",
    "can do complex operations to retrieve/transform your data in parallel for GPU training\n",
    "You must implement the following methods:\n",
    "\n",
    "```raw\n",
    "  1.  __init__:  is used to initialise newly created object, and receives arguments \n",
    "  2.  __len__: length of the dataset\n",
    "  3.  __getitem__: recipe for retrieving the i-th datapoint\n",
    "```"
   ],
   "metadata": {}
  },
  {
   "cell_type": "markdown",
   "source": [
    "## Example1: Turning Random X, y to Torch dataset"
   ],
   "metadata": {}
  },
  {
   "cell_type": "code",
   "execution_count": 26,
   "source": [
    "from torch.utils.data import Dataset"
   ],
   "outputs": [],
   "metadata": {}
  },
  {
   "cell_type": "code",
   "execution_count": 27,
   "source": [
    "def random_linear_data(beta1, beta0, n):\n",
    "    x = 10 * np.random.rand(n)\n",
    "    y = beta1 * x + beta0 + np.random.rand()\n",
    "    return x, y"
   ],
   "outputs": [],
   "metadata": {}
  },
  {
   "cell_type": "code",
   "execution_count": 28,
   "source": [
    "class LinearDataset(Dataset):\n",
    "    def __init__(self, beta1, beta0, n):\n",
    "        \"\"\"\n",
    "        beta1, beta0: linear model coeffcients\n",
    "        n: number of observation\n",
    "        \"\"\"\n",
    "        x, y = random_linear_data(beta1, beta0, n)\n",
    "        self.x, self.y =torch.from_numpy(x), torch.from_numpy(y)\n",
    "        self.n = n\n",
    "    \n",
    "    def __len__(self):\n",
    "        return len(x)\n",
    "    \n",
    "    def __getitem__(self, idx):\n",
    "        return self.x[idx], self.y[idx]"
   ],
   "outputs": [],
   "metadata": {}
  },
  {
   "cell_type": "code",
   "execution_count": 29,
   "source": [
    "LinearDS = LinearDataset(beta1=2, beta0=10, n=200)\n",
    "LinearDS.x[:10], LinearDS.y[:10]"
   ],
   "outputs": [
    {
     "output_type": "execute_result",
     "data": {
      "text/plain": [
       "(tensor([4.0602, 1.0785, 4.2940, 0.9729, 0.0830, 7.4732, 2.8182, 3.5015, 6.0932,\n",
       "         0.0618], dtype=torch.float64),\n",
       " tensor([18.5179, 12.5545, 18.9857, 12.3433, 10.5636, 25.3441, 16.0340, 17.4006,\n",
       "         22.5839, 10.5212], dtype=torch.float64))"
      ]
     },
     "metadata": {},
     "execution_count": 29
    }
   ],
   "metadata": {}
  },
  {
   "cell_type": "code",
   "execution_count": 30,
   "source": [
    "# normally we check the data using iterator\n",
    "# create an iterator and check the first 10 data\n",
    "\n",
    "iterator, i = iter(LinearDS), 0\n",
    "while i < 10:\n",
    "    print( next(iterator) )\n",
    "    i += 1"
   ],
   "outputs": [
    {
     "output_type": "stream",
     "name": "stdout",
     "text": [
      "(tensor(4.0602, dtype=torch.float64), tensor(18.5179, dtype=torch.float64))\n",
      "(tensor(1.0785, dtype=torch.float64), tensor(12.5545, dtype=torch.float64))\n",
      "(tensor(4.2940, dtype=torch.float64), tensor(18.9857, dtype=torch.float64))\n",
      "(tensor(0.9729, dtype=torch.float64), tensor(12.3433, dtype=torch.float64))\n",
      "(tensor(0.0830, dtype=torch.float64), tensor(10.5636, dtype=torch.float64))\n",
      "(tensor(7.4732, dtype=torch.float64), tensor(25.3441, dtype=torch.float64))\n",
      "(tensor(2.8182, dtype=torch.float64), tensor(16.0340, dtype=torch.float64))\n",
      "(tensor(3.5015, dtype=torch.float64), tensor(17.4006, dtype=torch.float64))\n",
      "(tensor(6.0932, dtype=torch.float64), tensor(22.5839, dtype=torch.float64))\n",
      "(tensor(0.0618, dtype=torch.float64), tensor(10.5212, dtype=torch.float64))\n"
     ]
    }
   ],
   "metadata": {}
  },
  {
   "cell_type": "code",
   "execution_count": 33,
   "source": [
    "plt.scatter(LinearDS.x, LinearDS.y)"
   ],
   "outputs": [
    {
     "output_type": "execute_result",
     "data": {
      "text/plain": [
       "<matplotlib.collections.PathCollection at 0x7f9f583f51d0>"
      ]
     },
     "metadata": {},
     "execution_count": 33
    },
    {
     "output_type": "display_data",
     "data": {
      "image/png": "[encoded data removed]",
      "image/svg+xml": "<?xml version=\"1.0\" encoding=\"utf-8\" standalone=\"no\"?>\n<!DOCTYPE svg PUBLIC \"-//W3C//DTD SVG 1.1//EN\"\n  \"http://www.w3.org/Graphics/SVG/1.1/DTD/svg11.dtd\">\n<svg height=\"248.518125pt\" version=\"1.1\" viewBox=\"0 0 378.465625 248.518125\" width=\"378.465625pt\" xmlns=\"http://www.w3.org/2000/svg\" xmlns:xlink=\"http://www.w3.org/1999/xlink\">\n <metadata>\n  <rdf:RDF xmlns:cc=\"http://creativecommons.org/ns#\" xmlns:dc=\"http://purl.org/dc/elements/1.1/\" xmlns:rdf=\"http://www.w3.org/1999/02/22-rdf-syntax-ns#\">\n   <cc:Work>\n    <dc:type rdf:resource=\"http://purl.org/dc/dcmitype/StillImage\"/>\n    <dc:date>2021-07-16T20:39:25.574902</dc:date>\n    <dc:format>image/svg+xml</dc:format>\n    <dc:creator>\n     <cc:Agent>\n      <dc:title>Matplotlib v3.4.0, https://matplotlib.org/</dc:title>\n     </cc:Agent>\n    </dc:creator>\n   </cc:Work>\n  </rdf:RDF>\n </metadata>\n <defs>\n  <style type=\"text/css\">*{stroke-linecap:butt;stroke-linejoin:round;}</style>\n </defs>\n <g id=\"figure_1\">\n  <g id=\"patch_1\">\n   <path d=\"M 0 248.518125 \nL 378.465625 248.518125 \nL 378.465625 0 \nL 0 0 \nz\n\" style=\"fill:none;\"/>\n  </g>\n  <g id=\"axes_1\">\n   <g id=\"patch_2\">\n    <path d=\"M 36.465625 224.64 \nL 371.265625 224.64 \nL 371.265625 7.2 \nL 36.465625 7.2 \nz\n\" style=\"fill:#ffffff;\"/>\n   </g>\n   <g id=\"PathCollection_1\">\n    <defs>\n     <path d=\"M 0 3 \nC 0.795609 3 1.55874 2.683901 2.12132 2.12132 \nC 2.683901 1.55874 3 0.795609 3 0 \nC 3 -0.795609 2.683901 -1.55874 2.12132 -2.12132 \nC 1.55874 -2.683901 0.795609 -3 0 -3 \nC -0.795609 -3 -1.55874 -2.683901 -2.12132 -2.12132 \nC -2.683901 -1.55874 -3 -0.795609 -3 0 \nC -3 0.795609 -2.683901 1.55874 -2.12132 2.12132 \nC -1.55874 2.683901 -0.795609 3 0 3 \nz\n\" id=\"m560183d9e4\" style=\"stroke:#1f77b4;\"/>\n    </defs>\n    <g clip-path=\"url(#pb2483f208e)\">\n     <use style=\"fill:#1f77b4;stroke:#1f77b4;\" x=\"174.698402\" xlink:href=\"#m560183d9e4\" y=\"134.863013\"/>\n     <use style=\"fill:#1f77b4;stroke:#1f77b4;\" x=\"82.961796\" xlink:href=\"#m560183d9e4\" y=\"194.442487\"/>\n     <use style=\"fill:#1f77b4;stroke:#1f77b4;\" x=\"181.89426\" xlink:href=\"#m560183d9e4\" y=\"130.189575\"/>\n     <use style=\"fill:#1f77b4;stroke:#1f77b4;\" x=\"79.713191\" xlink:href=\"#m560183d9e4\" y=\"196.552333\"/>\n     <use style=\"fill:#1f77b4;stroke:#1f77b4;\" x=\"52.335064\" xlink:href=\"#m560183d9e4\" y=\"214.333396\"/>\n     <use style=\"fill:#1f77b4;stroke:#1f77b4;\" x=\"279.706777\" xlink:href=\"#m560183d9e4\" y=\"66.664026\"/>\n     <use style=\"fill:#1f77b4;stroke:#1f77b4;\" x=\"136.488146\" xlink:href=\"#m560183d9e4\" y=\"159.679137\"/>\n     <use style=\"fill:#1f77b4;stroke:#1f77b4;\" x=\"157.510654\" xlink:href=\"#m560183d9e4\" y=\"146.025809\"/>\n     <use style=\"fill:#1f77b4;stroke:#1f77b4;\" x=\"237.246998\" xlink:href=\"#m560183d9e4\" y=\"94.240054\"/>\n     <use style=\"fill:#1f77b4;stroke:#1f77b4;\" x=\"51.683807\" xlink:href=\"#m560183d9e4\" y=\"214.756364\"/>\n     <use style=\"fill:#1f77b4;stroke:#1f77b4;\" x=\"276.004086\" xlink:href=\"#m560183d9e4\" y=\"69.068784\"/>\n     <use style=\"fill:#1f77b4;stroke:#1f77b4;\" x=\"261.159795\" xlink:href=\"#m560183d9e4\" y=\"78.709593\"/>\n     <use style=\"fill:#1f77b4;stroke:#1f77b4;\" x=\"238.517149\" xlink:href=\"#m560183d9e4\" y=\"93.415139\"/>\n     <use style=\"fill:#1f77b4;stroke:#1f77b4;\" x=\"144.443871\" xlink:href=\"#m560183d9e4\" y=\"154.512193\"/>\n     <use style=\"fill:#1f77b4;stroke:#1f77b4;\" x=\"286.611671\" xlink:href=\"#m560183d9e4\" y=\"62.179557\"/>\n     <use style=\"fill:#1f77b4;stroke:#1f77b4;\" x=\"350.403621\" xlink:href=\"#m560183d9e4\" y=\"20.749087\"/>\n     <use style=\"fill:#1f77b4;stroke:#1f77b4;\" x=\"121.954679\" xlink:href=\"#m560183d9e4\" y=\"169.118076\"/>\n     <use style=\"fill:#1f77b4;stroke:#1f77b4;\" x=\"114.711002\" xlink:href=\"#m560183d9e4\" y=\"173.822572\"/>\n     <use style=\"fill:#1f77b4;stroke:#1f77b4;\" x=\"295.375272\" xlink:href=\"#m560183d9e4\" y=\"56.487928\"/>\n     <use style=\"fill:#1f77b4;stroke:#1f77b4;\" x=\"352.103055\" xlink:href=\"#m560183d9e4\" y=\"19.645368\"/>\n     <use style=\"fill:#1f77b4;stroke:#1f77b4;\" x=\"124.563329\" xlink:href=\"#m560183d9e4\" y=\"167.423856\"/>\n     <use style=\"fill:#1f77b4;stroke:#1f77b4;\" x=\"232.380551\" xlink:href=\"#m560183d9e4\" y=\"97.400629\"/>\n     <use style=\"fill:#1f77b4;stroke:#1f77b4;\" x=\"139.026706\" xlink:href=\"#m560183d9e4\" y=\"158.030438\"/>\n     <use style=\"fill:#1f77b4;stroke:#1f77b4;\" x=\"71.992423\" xlink:href=\"#m560183d9e4\" y=\"201.566682\"/>\n     <use style=\"fill:#1f77b4;stroke:#1f77b4;\" x=\"112.729281\" xlink:href=\"#m560183d9e4\" y=\"175.109626\"/>\n     <use style=\"fill:#1f77b4;stroke:#1f77b4;\" x=\"67.441941\" xlink:href=\"#m560183d9e4\" y=\"204.522049\"/>\n     <use style=\"fill:#1f77b4;stroke:#1f77b4;\" x=\"286.296935\" xlink:href=\"#m560183d9e4\" y=\"62.383966\"/>\n     <use style=\"fill:#1f77b4;stroke:#1f77b4;\" x=\"224.999032\" xlink:href=\"#m560183d9e4\" y=\"102.194647\"/>\n     <use style=\"fill:#1f77b4;stroke:#1f77b4;\" x=\"180.919534\" xlink:href=\"#m560183d9e4\" y=\"130.822623\"/>\n     <use style=\"fill:#1f77b4;stroke:#1f77b4;\" x=\"210.343383\" xlink:href=\"#m560183d9e4\" y=\"111.71294\"/>\n     <use style=\"fill:#1f77b4;stroke:#1f77b4;\" x=\"148.451427\" xlink:href=\"#m560183d9e4\" y=\"151.909436\"/>\n     <use style=\"fill:#1f77b4;stroke:#1f77b4;\" x=\"254.151749\" xlink:href=\"#m560183d9e4\" y=\"83.261055\"/>\n     <use style=\"fill:#1f77b4;stroke:#1f77b4;\" x=\"149.723754\" xlink:href=\"#m560183d9e4\" y=\"151.083107\"/>\n     <use style=\"fill:#1f77b4;stroke:#1f77b4;\" x=\"226.583293\" xlink:href=\"#m560183d9e4\" y=\"101.165729\"/>\n     <use style=\"fill:#1f77b4;stroke:#1f77b4;\" x=\"180.114569\" xlink:href=\"#m560183d9e4\" y=\"131.345417\"/>\n     <use style=\"fill:#1f77b4;stroke:#1f77b4;\" x=\"123.796592\" xlink:href=\"#m560183d9e4\" y=\"167.921824\"/>\n     <use style=\"fill:#1f77b4;stroke:#1f77b4;\" x=\"303.439558\" xlink:href=\"#m560183d9e4\" y=\"51.250478\"/>\n     <use style=\"fill:#1f77b4;stroke:#1f77b4;\" x=\"157.984182\" xlink:href=\"#m560183d9e4\" y=\"145.718271\"/>\n     <use style=\"fill:#1f77b4;stroke:#1f77b4;\" x=\"107.276766\" xlink:href=\"#m560183d9e4\" y=\"178.650829\"/>\n     <use style=\"fill:#1f77b4;stroke:#1f77b4;\" x=\"129.047995\" xlink:href=\"#m560183d9e4\" y=\"164.511235\"/>\n     <use style=\"fill:#1f77b4;stroke:#1f77b4;\" x=\"292.695788\" xlink:href=\"#m560183d9e4\" y=\"58.228152\"/>\n     <use style=\"fill:#1f77b4;stroke:#1f77b4;\" x=\"166.32708\" xlink:href=\"#m560183d9e4\" y=\"140.299873\"/>\n     <use style=\"fill:#1f77b4;stroke:#1f77b4;\" x=\"299.257941\" xlink:href=\"#m560183d9e4\" y=\"53.966281\"/>\n     <use style=\"fill:#1f77b4;stroke:#1f77b4;\" x=\"196.254415\" xlink:href=\"#m560183d9e4\" y=\"120.863194\"/>\n     <use style=\"fill:#1f77b4;stroke:#1f77b4;\" x=\"276.852425\" xlink:href=\"#m560183d9e4\" y=\"68.51782\"/>\n     <use style=\"fill:#1f77b4;stroke:#1f77b4;\" x=\"189.004903\" xlink:href=\"#m560183d9e4\" y=\"125.571479\"/>\n     <use style=\"fill:#1f77b4;stroke:#1f77b4;\" x=\"138.416497\" xlink:href=\"#m560183d9e4\" y=\"158.426746\"/>\n     <use style=\"fill:#1f77b4;stroke:#1f77b4;\" x=\"236.211293\" xlink:href=\"#m560183d9e4\" y=\"94.912706\"/>\n     <use style=\"fill:#1f77b4;stroke:#1f77b4;\" x=\"243.36756\" xlink:href=\"#m560183d9e4\" y=\"90.26498\"/>\n     <use style=\"fill:#1f77b4;stroke:#1f77b4;\" x=\"348.114835\" xlink:href=\"#m560183d9e4\" y=\"22.235567\"/>\n     <use style=\"fill:#1f77b4;stroke:#1f77b4;\" x=\"344.97002\" xlink:href=\"#m560183d9e4\" y=\"24.278006\"/>\n     <use style=\"fill:#1f77b4;stroke:#1f77b4;\" x=\"179.631277\" xlink:href=\"#m560183d9e4\" y=\"131.659297\"/>\n     <use style=\"fill:#1f77b4;stroke:#1f77b4;\" x=\"287.315848\" xlink:href=\"#m560183d9e4\" y=\"61.722221\"/>\n     <use style=\"fill:#1f77b4;stroke:#1f77b4;\" x=\"266.950998\" xlink:href=\"#m560183d9e4\" y=\"74.948424\"/>\n     <use style=\"fill:#1f77b4;stroke:#1f77b4;\" x=\"116.848881\" xlink:href=\"#m560183d9e4\" y=\"172.434101\"/>\n     <use style=\"fill:#1f77b4;stroke:#1f77b4;\" x=\"296.244891\" xlink:href=\"#m560183d9e4\" y=\"55.923143\"/>\n     <use style=\"fill:#1f77b4;stroke:#1f77b4;\" x=\"147.268474\" xlink:href=\"#m560183d9e4\" y=\"152.677719\"/>\n     <use style=\"fill:#1f77b4;stroke:#1f77b4;\" x=\"127.619302\" xlink:href=\"#m560183d9e4\" y=\"165.439117\"/>\n     <use style=\"fill:#1f77b4;stroke:#1f77b4;\" x=\"88.776179\" xlink:href=\"#m560183d9e4\" y=\"190.666264\"/>\n     <use style=\"fill:#1f77b4;stroke:#1f77b4;\" x=\"316.613443\" xlink:href=\"#m560183d9e4\" y=\"42.694535\"/>\n     <use style=\"fill:#1f77b4;stroke:#1f77b4;\" x=\"125.736668\" xlink:href=\"#m560183d9e4\" y=\"166.661817\"/>\n     <use style=\"fill:#1f77b4;stroke:#1f77b4;\" x=\"54.272064\" xlink:href=\"#m560183d9e4\" y=\"213.075388\"/>\n     <use style=\"fill:#1f77b4;stroke:#1f77b4;\" x=\"356.047443\" xlink:href=\"#m560183d9e4\" y=\"17.083636\"/>\n     <use style=\"fill:#1f77b4;stroke:#1f77b4;\" x=\"335.21838\" xlink:href=\"#m560183d9e4\" y=\"30.611329\"/>\n     <use style=\"fill:#1f77b4;stroke:#1f77b4;\" x=\"134.927227\" xlink:href=\"#m560183d9e4\" y=\"160.692895\"/>\n     <use style=\"fill:#1f77b4;stroke:#1f77b4;\" x=\"355.961317\" xlink:href=\"#m560183d9e4\" y=\"17.139572\"/>\n     <use style=\"fill:#1f77b4;stroke:#1f77b4;\" x=\"309.294353\" xlink:href=\"#m560183d9e4\" y=\"47.448009\"/>\n     <use style=\"fill:#1f77b4;stroke:#1f77b4;\" x=\"308.873693\" xlink:href=\"#m560183d9e4\" y=\"47.721212\"/>\n     <use style=\"fill:#1f77b4;stroke:#1f77b4;\" x=\"196.84491\" xlink:href=\"#m560183d9e4\" y=\"120.47969\"/>\n     <use style=\"fill:#1f77b4;stroke:#1f77b4;\" x=\"263.92354\" xlink:href=\"#m560183d9e4\" y=\"76.914644\"/>\n     <use style=\"fill:#1f77b4;stroke:#1f77b4;\" x=\"122.340066\" xlink:href=\"#m560183d9e4\" y=\"168.867782\"/>\n     <use style=\"fill:#1f77b4;stroke:#1f77b4;\" x=\"96.01905\" xlink:href=\"#m560183d9e4\" y=\"185.962292\"/>\n     <use style=\"fill:#1f77b4;stroke:#1f77b4;\" x=\"189.673069\" xlink:href=\"#m560183d9e4\" y=\"125.137531\"/>\n     <use style=\"fill:#1f77b4;stroke:#1f77b4;\" x=\"82.94769\" xlink:href=\"#m560183d9e4\" y=\"194.451648\"/>\n     <use style=\"fill:#1f77b4;stroke:#1f77b4;\" x=\"118.220491\" xlink:href=\"#m560183d9e4\" y=\"171.543291\"/>\n     <use style=\"fill:#1f77b4;stroke:#1f77b4;\" x=\"184.292368\" xlink:href=\"#m560183d9e4\" y=\"128.632094\"/>\n     <use style=\"fill:#1f77b4;stroke:#1f77b4;\" x=\"127.417516\" xlink:href=\"#m560183d9e4\" y=\"165.57017\"/>\n     <use style=\"fill:#1f77b4;stroke:#1f77b4;\" x=\"144.417411\" xlink:href=\"#m560183d9e4\" y=\"154.529378\"/>\n     <use style=\"fill:#1f77b4;stroke:#1f77b4;\" x=\"301.767917\" xlink:href=\"#m560183d9e4\" y=\"52.336146\"/>\n     <use style=\"fill:#1f77b4;stroke:#1f77b4;\" x=\"131.702871\" xlink:href=\"#m560183d9e4\" y=\"162.786993\"/>\n     <use style=\"fill:#1f77b4;stroke:#1f77b4;\" x=\"65.491885\" xlink:href=\"#m560183d9e4\" y=\"205.788537\"/>\n     <use style=\"fill:#1f77b4;stroke:#1f77b4;\" x=\"282.478284\" xlink:href=\"#m560183d9e4\" y=\"64.864036\"/>\n     <use style=\"fill:#1f77b4;stroke:#1f77b4;\" x=\"189.242718\" xlink:href=\"#m560183d9e4\" y=\"125.417028\"/>\n     <use style=\"fill:#1f77b4;stroke:#1f77b4;\" x=\"144.499567\" xlink:href=\"#m560183d9e4\" y=\"154.476021\"/>\n     <use style=\"fill:#1f77b4;stroke:#1f77b4;\" x=\"342.005787\" xlink:href=\"#m560183d9e4\" y=\"26.203164\"/>\n     <use style=\"fill:#1f77b4;stroke:#1f77b4;\" x=\"218.03713\" xlink:href=\"#m560183d9e4\" y=\"106.716141\"/>\n     <use style=\"fill:#1f77b4;stroke:#1f77b4;\" x=\"89.951576\" xlink:href=\"#m560183d9e4\" y=\"189.902888\"/>\n     <use style=\"fill:#1f77b4;stroke:#1f77b4;\" x=\"190.244792\" xlink:href=\"#m560183d9e4\" y=\"124.766218\"/>\n     <use style=\"fill:#1f77b4;stroke:#1f77b4;\" x=\"190.63199\" xlink:href=\"#m560183d9e4\" y=\"124.514748\"/>\n     <use style=\"fill:#1f77b4;stroke:#1f77b4;\" x=\"350.985723\" xlink:href=\"#m560183d9e4\" y=\"20.371033\"/>\n     <use style=\"fill:#1f77b4;stroke:#1f77b4;\" x=\"140.886079\" xlink:href=\"#m560183d9e4\" y=\"156.822845\"/>\n     <use style=\"fill:#1f77b4;stroke:#1f77b4;\" x=\"194.1148\" xlink:href=\"#m560183d9e4\" y=\"122.252794\"/>\n     <use style=\"fill:#1f77b4;stroke:#1f77b4;\" x=\"171.555208\" xlink:href=\"#m560183d9e4\" y=\"136.9044\"/>\n     <use style=\"fill:#1f77b4;stroke:#1f77b4;\" x=\"102.846551\" xlink:href=\"#m560183d9e4\" y=\"181.528087\"/>\n     <use style=\"fill:#1f77b4;stroke:#1f77b4;\" x=\"263.205376\" xlink:href=\"#m560183d9e4\" y=\"77.381065\"/>\n     <use style=\"fill:#1f77b4;stroke:#1f77b4;\" x=\"200.257125\" xlink:href=\"#m560183d9e4\" y=\"118.263585\"/>\n     <use style=\"fill:#1f77b4;stroke:#1f77b4;\" x=\"261.192061\" xlink:href=\"#m560183d9e4\" y=\"78.688637\"/>\n     <use style=\"fill:#1f77b4;stroke:#1f77b4;\" x=\"317.544515\" xlink:href=\"#m560183d9e4\" y=\"42.089839\"/>\n     <use style=\"fill:#1f77b4;stroke:#1f77b4;\" x=\"79.448643\" xlink:href=\"#m560183d9e4\" y=\"196.724147\"/>\n     <use style=\"fill:#1f77b4;stroke:#1f77b4;\" x=\"56.699821\" xlink:href=\"#m560183d9e4\" y=\"211.498651\"/>\n     <use style=\"fill:#1f77b4;stroke:#1f77b4;\" x=\"52.349913\" xlink:href=\"#m560183d9e4\" y=\"214.323753\"/>\n     <use style=\"fill:#1f77b4;stroke:#1f77b4;\" x=\"313.985665\" xlink:href=\"#m560183d9e4\" y=\"44.401178\"/>\n     <use style=\"fill:#1f77b4;stroke:#1f77b4;\" x=\"153.710906\" xlink:href=\"#m560183d9e4\" y=\"148.493602\"/>\n     <use style=\"fill:#1f77b4;stroke:#1f77b4;\" x=\"222.529117\" xlink:href=\"#m560183d9e4\" y=\"103.798764\"/>\n     <use style=\"fill:#1f77b4;stroke:#1f77b4;\" x=\"314.426953\" xlink:href=\"#m560183d9e4\" y=\"44.114578\"/>\n     <use style=\"fill:#1f77b4;stroke:#1f77b4;\" x=\"237.112896\" xlink:href=\"#m560183d9e4\" y=\"94.327149\"/>\n     <use style=\"fill:#1f77b4;stroke:#1f77b4;\" x=\"245.48747\" xlink:href=\"#m560183d9e4\" y=\"88.888178\"/>\n     <use style=\"fill:#1f77b4;stroke:#1f77b4;\" x=\"218.012301\" xlink:href=\"#m560183d9e4\" y=\"106.732266\"/>\n     <use style=\"fill:#1f77b4;stroke:#1f77b4;\" x=\"313.447708\" xlink:href=\"#m560183d9e4\" y=\"44.750561\"/>\n     <use style=\"fill:#1f77b4;stroke:#1f77b4;\" x=\"200.954506\" xlink:href=\"#m560183d9e4\" y=\"117.810662\"/>\n     <use style=\"fill:#1f77b4;stroke:#1f77b4;\" x=\"128.316351\" xlink:href=\"#m560183d9e4\" y=\"164.98641\"/>\n     <use style=\"fill:#1f77b4;stroke:#1f77b4;\" x=\"173.736862\" xlink:href=\"#m560183d9e4\" y=\"135.487498\"/>\n     <use style=\"fill:#1f77b4;stroke:#1f77b4;\" x=\"267.726839\" xlink:href=\"#m560183d9e4\" y=\"74.444545\"/>\n     <use style=\"fill:#1f77b4;stroke:#1f77b4;\" x=\"206.317236\" xlink:href=\"#m560183d9e4\" y=\"114.327771\"/>\n     <use style=\"fill:#1f77b4;stroke:#1f77b4;\" x=\"289.957988\" xlink:href=\"#m560183d9e4\" y=\"60.00625\"/>\n     <use style=\"fill:#1f77b4;stroke:#1f77b4;\" x=\"92.381729\" xlink:href=\"#m560183d9e4\" y=\"188.324595\"/>\n     <use style=\"fill:#1f77b4;stroke:#1f77b4;\" x=\"99.856591\" xlink:href=\"#m560183d9e4\" y=\"183.469953\"/>\n     <use style=\"fill:#1f77b4;stroke:#1f77b4;\" x=\"232.905499\" xlink:href=\"#m560183d9e4\" y=\"97.059695\"/>\n     <use style=\"fill:#1f77b4;stroke:#1f77b4;\" x=\"192.148822\" xlink:href=\"#m560183d9e4\" y=\"123.529623\"/>\n     <use style=\"fill:#1f77b4;stroke:#1f77b4;\" x=\"312.134094\" xlink:href=\"#m560183d9e4\" y=\"45.603704\"/>\n     <use style=\"fill:#1f77b4;stroke:#1f77b4;\" x=\"194.098527\" xlink:href=\"#m560183d9e4\" y=\"122.263363\"/>\n     <use style=\"fill:#1f77b4;stroke:#1f77b4;\" x=\"295.33788\" xlink:href=\"#m560183d9e4\" y=\"56.512213\"/>\n     <use style=\"fill:#1f77b4;stroke:#1f77b4;\" x=\"173.972292\" xlink:href=\"#m560183d9e4\" y=\"135.334595\"/>\n     <use style=\"fill:#1f77b4;stroke:#1f77b4;\" x=\"62.902759\" xlink:href=\"#m560183d9e4\" y=\"207.470077\"/>\n     <use style=\"fill:#1f77b4;stroke:#1f77b4;\" x=\"113.641456\" xlink:href=\"#m560183d9e4\" y=\"174.517202\"/>\n     <use style=\"fill:#1f77b4;stroke:#1f77b4;\" x=\"54.54099\" xlink:href=\"#m560183d9e4\" y=\"212.900731\"/>\n     <use style=\"fill:#1f77b4;stroke:#1f77b4;\" x=\"106.294716\" xlink:href=\"#m560183d9e4\" y=\"179.288633\"/>\n     <use style=\"fill:#1f77b4;stroke:#1f77b4;\" x=\"293.44719\" xlink:href=\"#m560183d9e4\" y=\"57.740145\"/>\n     <use style=\"fill:#1f77b4;stroke:#1f77b4;\" x=\"334.55323\" xlink:href=\"#m560183d9e4\" y=\"31.043319\"/>\n     <use style=\"fill:#1f77b4;stroke:#1f77b4;\" x=\"322.623249\" xlink:href=\"#m560183d9e4\" y=\"38.791393\"/>\n     <use style=\"fill:#1f77b4;stroke:#1f77b4;\" x=\"218.402162\" xlink:href=\"#m560183d9e4\" y=\"106.479067\"/>\n     <use style=\"fill:#1f77b4;stroke:#1f77b4;\" x=\"257.180387\" xlink:href=\"#m560183d9e4\" y=\"81.294069\"/>\n     <use style=\"fill:#1f77b4;stroke:#1f77b4;\" x=\"146.924765\" xlink:href=\"#m560183d9e4\" y=\"152.900945\"/>\n     <use style=\"fill:#1f77b4;stroke:#1f77b4;\" x=\"78.522186\" xlink:href=\"#m560183d9e4\" y=\"197.325847\"/>\n     <use style=\"fill:#1f77b4;stroke:#1f77b4;\" x=\"120.340861\" xlink:href=\"#m560183d9e4\" y=\"170.166191\"/>\n     <use style=\"fill:#1f77b4;stroke:#1f77b4;\" x=\"130.206105\" xlink:href=\"#m560183d9e4\" y=\"163.759086\"/>\n     <use style=\"fill:#1f77b4;stroke:#1f77b4;\" x=\"293.337291\" xlink:href=\"#m560183d9e4\" y=\"57.81152\"/>\n     <use style=\"fill:#1f77b4;stroke:#1f77b4;\" x=\"269.640829\" xlink:href=\"#m560183d9e4\" y=\"73.201481\"/>\n     <use style=\"fill:#1f77b4;stroke:#1f77b4;\" x=\"179.166252\" xlink:href=\"#m560183d9e4\" y=\"131.961313\"/>\n     <use style=\"fill:#1f77b4;stroke:#1f77b4;\" x=\"309.750341\" xlink:href=\"#m560183d9e4\" y=\"47.151862\"/>\n     <use style=\"fill:#1f77b4;stroke:#1f77b4;\" x=\"263.535997\" xlink:href=\"#m560183d9e4\" y=\"77.166339\"/>\n     <use style=\"fill:#1f77b4;stroke:#1f77b4;\" x=\"309.524536\" xlink:href=\"#m560183d9e4\" y=\"47.298514\"/>\n     <use style=\"fill:#1f77b4;stroke:#1f77b4;\" x=\"346.973728\" xlink:href=\"#m560183d9e4\" y=\"22.976673\"/>\n     <use style=\"fill:#1f77b4;stroke:#1f77b4;\" x=\"117.935606\" xlink:href=\"#m560183d9e4\" y=\"171.728314\"/>\n     <use style=\"fill:#1f77b4;stroke:#1f77b4;\" x=\"272.198189\" xlink:href=\"#m560183d9e4\" y=\"71.540572\"/>\n     <use style=\"fill:#1f77b4;stroke:#1f77b4;\" x=\"202.874525\" xlink:href=\"#m560183d9e4\" y=\"116.563682\"/>\n     <use style=\"fill:#1f77b4;stroke:#1f77b4;\" x=\"341.219895\" xlink:href=\"#m560183d9e4\" y=\"26.713571\"/>\n     <use style=\"fill:#1f77b4;stroke:#1f77b4;\" x=\"285.065996\" xlink:href=\"#m560183d9e4\" y=\"63.183415\"/>\n     <use style=\"fill:#1f77b4;stroke:#1f77b4;\" x=\"320.505238\" xlink:href=\"#m560183d9e4\" y=\"40.166961\"/>\n     <use style=\"fill:#1f77b4;stroke:#1f77b4;\" x=\"306.238361\" xlink:href=\"#m560183d9e4\" y=\"49.432761\"/>\n     <use style=\"fill:#1f77b4;stroke:#1f77b4;\" x=\"303.792782\" xlink:href=\"#m560183d9e4\" y=\"51.021072\"/>\n     <use style=\"fill:#1f77b4;stroke:#1f77b4;\" x=\"81.599994\" xlink:href=\"#m560183d9e4\" y=\"195.326926\"/>\n     <use style=\"fill:#1f77b4;stroke:#1f77b4;\" x=\"153.054351\" xlink:href=\"#m560183d9e4\" y=\"148.92001\"/>\n     <use style=\"fill:#1f77b4;stroke:#1f77b4;\" x=\"284.689672\" xlink:href=\"#m560183d9e4\" y=\"63.427823\"/>\n     <use style=\"fill:#1f77b4;stroke:#1f77b4;\" x=\"350.38768\" xlink:href=\"#m560183d9e4\" y=\"20.75944\"/>\n     <use style=\"fill:#1f77b4;stroke:#1f77b4;\" x=\"149.461554\" xlink:href=\"#m560183d9e4\" y=\"151.253397\"/>\n     <use style=\"fill:#1f77b4;stroke:#1f77b4;\" x=\"259.850794\" xlink:href=\"#m560183d9e4\" y=\"79.55974\"/>\n     <use style=\"fill:#1f77b4;stroke:#1f77b4;\" x=\"191.200346\" xlink:href=\"#m560183d9e4\" y=\"124.145622\"/>\n     <use style=\"fill:#1f77b4;stroke:#1f77b4;\" x=\"265.263156\" xlink:href=\"#m560183d9e4\" y=\"76.044614\"/>\n     <use style=\"fill:#1f77b4;stroke:#1f77b4;\" x=\"337.142922\" xlink:href=\"#m560183d9e4\" y=\"29.361412\"/>\n     <use style=\"fill:#1f77b4;stroke:#1f77b4;\" x=\"109.015236\" xlink:href=\"#m560183d9e4\" y=\"177.521758\"/>\n     <use style=\"fill:#1f77b4;stroke:#1f77b4;\" x=\"137.743699\" xlink:href=\"#m560183d9e4\" y=\"158.863702\"/>\n     <use style=\"fill:#1f77b4;stroke:#1f77b4;\" x=\"222.886486\" xlink:href=\"#m560183d9e4\" y=\"103.566666\"/>\n     <use style=\"fill:#1f77b4;stroke:#1f77b4;\" x=\"52.089064\" xlink:href=\"#m560183d9e4\" y=\"214.493165\"/>\n     <use style=\"fill:#1f77b4;stroke:#1f77b4;\" x=\"80.056708\" xlink:href=\"#m560183d9e4\" y=\"196.329232\"/>\n     <use style=\"fill:#1f77b4;stroke:#1f77b4;\" x=\"201.672792\" xlink:href=\"#m560183d9e4\" y=\"117.344162\"/>\n     <use style=\"fill:#1f77b4;stroke:#1f77b4;\" x=\"110.628979\" xlink:href=\"#m560183d9e4\" y=\"176.473693\"/>\n     <use style=\"fill:#1f77b4;stroke:#1f77b4;\" x=\"111.598453\" xlink:href=\"#m560183d9e4\" y=\"175.844056\"/>\n     <use style=\"fill:#1f77b4;stroke:#1f77b4;\" x=\"289.592035\" xlink:href=\"#m560183d9e4\" y=\"60.243923\"/>\n     <use style=\"fill:#1f77b4;stroke:#1f77b4;\" x=\"312.997656\" xlink:href=\"#m560183d9e4\" y=\"45.042853\"/>\n     <use style=\"fill:#1f77b4;stroke:#1f77b4;\" x=\"221.4019\" xlink:href=\"#m560183d9e4\" y=\"104.530849\"/>\n     <use style=\"fill:#1f77b4;stroke:#1f77b4;\" x=\"355.161295\" xlink:href=\"#m560183d9e4\" y=\"17.659156\"/>\n     <use style=\"fill:#1f77b4;stroke:#1f77b4;\" x=\"270.464921\" xlink:href=\"#m560183d9e4\" y=\"72.666264\"/>\n     <use style=\"fill:#1f77b4;stroke:#1f77b4;\" x=\"262.312629\" xlink:href=\"#m560183d9e4\" y=\"77.96087\"/>\n     <use style=\"fill:#1f77b4;stroke:#1f77b4;\" x=\"119.195355\" xlink:href=\"#m560183d9e4\" y=\"170.910154\"/>\n     <use style=\"fill:#1f77b4;stroke:#1f77b4;\" x=\"208.078811\" xlink:href=\"#m560183d9e4\" y=\"113.183694\"/>\n     <use style=\"fill:#1f77b4;stroke:#1f77b4;\" x=\"145.624682\" xlink:href=\"#m560183d9e4\" y=\"153.7453\"/>\n     <use style=\"fill:#1f77b4;stroke:#1f77b4;\" x=\"224.509673\" xlink:href=\"#m560183d9e4\" y=\"102.512468\"/>\n     <use style=\"fill:#1f77b4;stroke:#1f77b4;\" x=\"99.349521\" xlink:href=\"#m560183d9e4\" y=\"183.799276\"/>\n     <use style=\"fill:#1f77b4;stroke:#1f77b4;\" x=\"227.630347\" xlink:href=\"#m560183d9e4\" y=\"100.485708\"/>\n     <use style=\"fill:#1f77b4;stroke:#1f77b4;\" x=\"291.648702\" xlink:href=\"#m560183d9e4\" y=\"58.908195\"/>\n     <use style=\"fill:#1f77b4;stroke:#1f77b4;\" x=\"119.328752\" xlink:href=\"#m560183d9e4\" y=\"170.823518\"/>\n     <use style=\"fill:#1f77b4;stroke:#1f77b4;\" x=\"326.238512\" xlink:href=\"#m560183d9e4\" y=\"36.443415\"/>\n     <use style=\"fill:#1f77b4;stroke:#1f77b4;\" x=\"210.52397\" xlink:href=\"#m560183d9e4\" y=\"111.595655\"/>\n     <use style=\"fill:#1f77b4;stroke:#1f77b4;\" x=\"160.904228\" xlink:href=\"#m560183d9e4\" y=\"143.82181\"/>\n     <use style=\"fill:#1f77b4;stroke:#1f77b4;\" x=\"329.142217\" xlink:href=\"#m560183d9e4\" y=\"34.557568\"/>\n     <use style=\"fill:#1f77b4;stroke:#1f77b4;\" x=\"175.132953\" xlink:href=\"#m560183d9e4\" y=\"134.580789\"/>\n     <use style=\"fill:#1f77b4;stroke:#1f77b4;\" x=\"272.949794\" xlink:href=\"#m560183d9e4\" y=\"71.052432\"/>\n     <use style=\"fill:#1f77b4;stroke:#1f77b4;\" x=\"317.585219\" xlink:href=\"#m560183d9e4\" y=\"42.063404\"/>\n     <use style=\"fill:#1f77b4;stroke:#1f77b4;\" x=\"112.054767\" xlink:href=\"#m560183d9e4\" y=\"175.547697\"/>\n     <use style=\"fill:#1f77b4;stroke:#1f77b4;\" x=\"168.215227\" xlink:href=\"#m560183d9e4\" y=\"139.073592\"/>\n     <use style=\"fill:#1f77b4;stroke:#1f77b4;\" x=\"222.697436\" xlink:href=\"#m560183d9e4\" y=\"103.689448\"/>\n     <use style=\"fill:#1f77b4;stroke:#1f77b4;\" x=\"281.356367\" xlink:href=\"#m560183d9e4\" y=\"65.592679\"/>\n     <use style=\"fill:#1f77b4;stroke:#1f77b4;\" x=\"331.403576\" xlink:href=\"#m560183d9e4\" y=\"33.088901\"/>\n     <use style=\"fill:#1f77b4;stroke:#1f77b4;\" x=\"314.291897\" xlink:href=\"#m560183d9e4\" y=\"44.202292\"/>\n     <use style=\"fill:#1f77b4;stroke:#1f77b4;\" x=\"63.935552\" xlink:href=\"#m560183d9e4\" y=\"206.799317\"/>\n     <use style=\"fill:#1f77b4;stroke:#1f77b4;\" x=\"127.254218\" xlink:href=\"#m560183d9e4\" y=\"165.676226\"/>\n     <use style=\"fill:#1f77b4;stroke:#1f77b4;\" x=\"136.341732\" xlink:href=\"#m560183d9e4\" y=\"159.774227\"/>\n     <use style=\"fill:#1f77b4;stroke:#1f77b4;\" x=\"332.416215\" xlink:href=\"#m560183d9e4\" y=\"32.431229\"/>\n     <use style=\"fill:#1f77b4;stroke:#1f77b4;\" x=\"332.266316\" xlink:href=\"#m560183d9e4\" y=\"32.528584\"/>\n    </g>\n   </g>\n   <g id=\"matplotlib.axis_1\">\n    <g id=\"xtick_1\">\n     <g id=\"line2d_1\">\n      <defs>\n       <path d=\"M 0 0 \nL 0 3.5 \n\" id=\"m63c34a60dd\" style=\"stroke:#000000;stroke-width:0.8;\"/>\n      </defs>\n      <g>\n       <use style=\"stroke:#000000;stroke-width:0.8;\" x=\"49.78146\" xlink:href=\"#m63c34a60dd\" y=\"224.64\"/>\n      </g>\n     </g>\n     <g id=\"text_1\">\n      <!-- 0 -->\n      <g transform=\"translate(46.60021 239.238437)scale(0.1 -0.1)\">\n       <defs>\n        <path d=\"M 2034 4250 \nQ 1547 4250 1301 3770 \nQ 1056 3291 1056 2328 \nQ 1056 1369 1301 889 \nQ 1547 409 2034 409 \nQ 2525 409 2770 889 \nQ 3016 1369 3016 2328 \nQ 3016 3291 2770 3770 \nQ 2525 4250 2034 4250 \nz\nM 2034 4750 \nQ 2819 4750 3233 4129 \nQ 3647 3509 3647 2328 \nQ 3647 1150 3233 529 \nQ 2819 -91 2034 -91 \nQ 1250 -91 836 529 \nQ 422 1150 422 2328 \nQ 422 3509 836 4129 \nQ 1250 4750 2034 4750 \nz\n\" id=\"DejaVuSans-30\" transform=\"scale(0.015625)\"/>\n       </defs>\n       <use xlink:href=\"#DejaVuSans-30\"/>\n      </g>\n     </g>\n    </g>\n    <g id=\"xtick_2\">\n     <g id=\"line2d_2\">\n      <g>\n       <use style=\"stroke:#000000;stroke-width:0.8;\" x=\"111.314423\" xlink:href=\"#m63c34a60dd\" y=\"224.64\"/>\n      </g>\n     </g>\n     <g id=\"text_2\">\n      <!-- 2 -->\n      <g transform=\"translate(108.133173 239.238437)scale(0.1 -0.1)\">\n       <defs>\n        <path d=\"M 1228 531 \nL 3431 531 \nL 3431 0 \nL 469 0 \nL 469 531 \nQ 828 903 1448 1529 \nQ 2069 2156 2228 2338 \nQ 2531 2678 2651 2914 \nQ 2772 3150 2772 3378 \nQ 2772 3750 2511 3984 \nQ 2250 4219 1831 4219 \nQ 1534 4219 1204 4116 \nQ 875 4013 500 3803 \nL 500 4441 \nQ 881 4594 1212 4672 \nQ 1544 4750 1819 4750 \nQ 2544 4750 2975 4387 \nQ 3406 4025 3406 3419 \nQ 3406 3131 3298 2873 \nQ 3191 2616 2906 2266 \nQ 2828 2175 2409 1742 \nQ 1991 1309 1228 531 \nz\n\" id=\"DejaVuSans-32\" transform=\"scale(0.015625)\"/>\n       </defs>\n       <use xlink:href=\"#DejaVuSans-32\"/>\n      </g>\n     </g>\n    </g>\n    <g id=\"xtick_3\">\n     <g id=\"line2d_3\">\n      <g>\n       <use style=\"stroke:#000000;stroke-width:0.8;\" x=\"172.847386\" xlink:href=\"#m63c34a60dd\" y=\"224.64\"/>\n      </g>\n     </g>\n     <g id=\"text_3\">\n      <!-- 4 -->\n      <g transform=\"translate(169.666136 239.238437)scale(0.1 -0.1)\">\n       <defs>\n        <path d=\"M 2419 4116 \nL 825 1625 \nL 2419 1625 \nL 2419 4116 \nz\nM 2253 4666 \nL 3047 4666 \nL 3047 1625 \nL 3713 1625 \nL 3713 1100 \nL 3047 1100 \nL 3047 0 \nL 2419 0 \nL 2419 1100 \nL 313 1100 \nL 313 1709 \nL 2253 4666 \nz\n\" id=\"DejaVuSans-34\" transform=\"scale(0.015625)\"/>\n       </defs>\n       <use xlink:href=\"#DejaVuSans-34\"/>\n      </g>\n     </g>\n    </g>\n    <g id=\"xtick_4\">\n     <g id=\"line2d_4\">\n      <g>\n       <use style=\"stroke:#000000;stroke-width:0.8;\" x=\"234.380349\" xlink:href=\"#m63c34a60dd\" y=\"224.64\"/>\n      </g>\n     </g>\n     <g id=\"text_4\">\n      <!-- 6 -->\n      <g transform=\"translate(231.199099 239.238437)scale(0.1 -0.1)\">\n       <defs>\n        <path d=\"M 2113 2584 \nQ 1688 2584 1439 2293 \nQ 1191 2003 1191 1497 \nQ 1191 994 1439 701 \nQ 1688 409 2113 409 \nQ 2538 409 2786 701 \nQ 3034 994 3034 1497 \nQ 3034 2003 2786 2293 \nQ 2538 2584 2113 2584 \nz\nM 3366 4563 \nL 3366 3988 \nQ 3128 4100 2886 4159 \nQ 2644 4219 2406 4219 \nQ 1781 4219 1451 3797 \nQ 1122 3375 1075 2522 \nQ 1259 2794 1537 2939 \nQ 1816 3084 2150 3084 \nQ 2853 3084 3261 2657 \nQ 3669 2231 3669 1497 \nQ 3669 778 3244 343 \nQ 2819 -91 2113 -91 \nQ 1303 -91 875 529 \nQ 447 1150 447 2328 \nQ 447 3434 972 4092 \nQ 1497 4750 2381 4750 \nQ 2619 4750 2861 4703 \nQ 3103 4656 3366 4563 \nz\n\" id=\"DejaVuSans-36\" transform=\"scale(0.015625)\"/>\n       </defs>\n       <use xlink:href=\"#DejaVuSans-36\"/>\n      </g>\n     </g>\n    </g>\n    <g id=\"xtick_5\">\n     <g id=\"line2d_5\">\n      <g>\n       <use style=\"stroke:#000000;stroke-width:0.8;\" x=\"295.913312\" xlink:href=\"#m63c34a60dd\" y=\"224.64\"/>\n      </g>\n     </g>\n     <g id=\"text_5\">\n      <!-- 8 -->\n      <g transform=\"translate(292.732062 239.238437)scale(0.1 -0.1)\">\n       <defs>\n        <path d=\"M 2034 2216 \nQ 1584 2216 1326 1975 \nQ 1069 1734 1069 1313 \nQ 1069 891 1326 650 \nQ 1584 409 2034 409 \nQ 2484 409 2743 651 \nQ 3003 894 3003 1313 \nQ 3003 1734 2745 1975 \nQ 2488 2216 2034 2216 \nz\nM 1403 2484 \nQ 997 2584 770 2862 \nQ 544 3141 544 3541 \nQ 544 4100 942 4425 \nQ 1341 4750 2034 4750 \nQ 2731 4750 3128 4425 \nQ 3525 4100 3525 3541 \nQ 3525 3141 3298 2862 \nQ 3072 2584 2669 2484 \nQ 3125 2378 3379 2068 \nQ 3634 1759 3634 1313 \nQ 3634 634 3220 271 \nQ 2806 -91 2034 -91 \nQ 1263 -91 848 271 \nQ 434 634 434 1313 \nQ 434 1759 690 2068 \nQ 947 2378 1403 2484 \nz\nM 1172 3481 \nQ 1172 3119 1398 2916 \nQ 1625 2713 2034 2713 \nQ 2441 2713 2670 2916 \nQ 2900 3119 2900 3481 \nQ 2900 3844 2670 4047 \nQ 2441 4250 2034 4250 \nQ 1625 4250 1398 4047 \nQ 1172 3844 1172 3481 \nz\n\" id=\"DejaVuSans-38\" transform=\"scale(0.015625)\"/>\n       </defs>\n       <use xlink:href=\"#DejaVuSans-38\"/>\n      </g>\n     </g>\n    </g>\n    <g id=\"xtick_6\">\n     <g id=\"line2d_6\">\n      <g>\n       <use style=\"stroke:#000000;stroke-width:0.8;\" x=\"357.446275\" xlink:href=\"#m63c34a60dd\" y=\"224.64\"/>\n      </g>\n     </g>\n     <g id=\"text_6\">\n      <!-- 10 -->\n      <g transform=\"translate(351.083775 239.238437)scale(0.1 -0.1)\">\n       <defs>\n        <path d=\"M 794 531 \nL 1825 531 \nL 1825 4091 \nL 703 3866 \nL 703 4441 \nL 1819 4666 \nL 2450 4666 \nL 2450 531 \nL 3481 531 \nL 3481 0 \nL 794 0 \nL 794 531 \nz\n\" id=\"DejaVuSans-31\" transform=\"scale(0.015625)\"/>\n       </defs>\n       <use xlink:href=\"#DejaVuSans-31\"/>\n       <use x=\"63.623047\" xlink:href=\"#DejaVuSans-30\"/>\n      </g>\n     </g>\n    </g>\n   </g>\n   <g id=\"matplotlib.axis_2\">\n    <g id=\"ytick_1\">\n     <g id=\"line2d_7\">\n      <defs>\n       <path d=\"M 0 0 \nL -3.5 0 \n\" id=\"m479d4733a3\" style=\"stroke:#000000;stroke-width:0.8;\"/>\n      </defs>\n      <g>\n       <use style=\"stroke:#000000;stroke-width:0.8;\" x=\"36.465625\" xlink:href=\"#m479d4733a3\" y=\"219.964084\"/>\n      </g>\n     </g>\n     <g id=\"text_7\">\n      <!-- 10.0 -->\n      <g transform=\"translate(7.2 223.763303)scale(0.1 -0.1)\">\n       <defs>\n        <path d=\"M 684 794 \nL 1344 794 \nL 1344 0 \nL 684 0 \nL 684 794 \nz\n\" id=\"DejaVuSans-2e\" transform=\"scale(0.015625)\"/>\n       </defs>\n       <use xlink:href=\"#DejaVuSans-31\"/>\n       <use x=\"63.623047\" xlink:href=\"#DejaVuSans-30\"/>\n       <use x=\"127.246094\" xlink:href=\"#DejaVuSans-2e\"/>\n       <use x=\"159.033203\" xlink:href=\"#DejaVuSans-30\"/>\n      </g>\n     </g>\n    </g>\n    <g id=\"ytick_2\">\n     <g id=\"line2d_8\">\n      <g>\n       <use style=\"stroke:#000000;stroke-width:0.8;\" x=\"36.465625\" xlink:href=\"#m479d4733a3\" y=\"194.986994\"/>\n      </g>\n     </g>\n     <g id=\"text_8\">\n      <!-- 12.5 -->\n      <g transform=\"translate(7.2 198.786213)scale(0.1 -0.1)\">\n       <defs>\n        <path d=\"M 691 4666 \nL 3169 4666 \nL 3169 4134 \nL 1269 4134 \nL 1269 2991 \nQ 1406 3038 1543 3061 \nQ 1681 3084 1819 3084 \nQ 2600 3084 3056 2656 \nQ 3513 2228 3513 1497 \nQ 3513 744 3044 326 \nQ 2575 -91 1722 -91 \nQ 1428 -91 1123 -41 \nQ 819 9 494 109 \nL 494 744 \nQ 775 591 1075 516 \nQ 1375 441 1709 441 \nQ 2250 441 2565 725 \nQ 2881 1009 2881 1497 \nQ 2881 1984 2565 2268 \nQ 2250 2553 1709 2553 \nQ 1456 2553 1204 2497 \nQ 953 2441 691 2322 \nL 691 4666 \nz\n\" id=\"DejaVuSans-35\" transform=\"scale(0.015625)\"/>\n       </defs>\n       <use xlink:href=\"#DejaVuSans-31\"/>\n       <use x=\"63.623047\" xlink:href=\"#DejaVuSans-32\"/>\n       <use x=\"127.246094\" xlink:href=\"#DejaVuSans-2e\"/>\n       <use x=\"159.033203\" xlink:href=\"#DejaVuSans-35\"/>\n      </g>\n     </g>\n    </g>\n    <g id=\"ytick_3\">\n     <g id=\"line2d_9\">\n      <g>\n       <use style=\"stroke:#000000;stroke-width:0.8;\" x=\"36.465625\" xlink:href=\"#m479d4733a3\" y=\"170.009904\"/>\n      </g>\n     </g>\n     <g id=\"text_9\">\n      <!-- 15.0 -->\n      <g transform=\"translate(7.2 173.809123)scale(0.1 -0.1)\">\n       <use xlink:href=\"#DejaVuSans-31\"/>\n       <use x=\"63.623047\" xlink:href=\"#DejaVuSans-35\"/>\n       <use x=\"127.246094\" xlink:href=\"#DejaVuSans-2e\"/>\n       <use x=\"159.033203\" xlink:href=\"#DejaVuSans-30\"/>\n      </g>\n     </g>\n    </g>\n    <g id=\"ytick_4\">\n     <g id=\"line2d_10\">\n      <g>\n       <use style=\"stroke:#000000;stroke-width:0.8;\" x=\"36.465625\" xlink:href=\"#m479d4733a3\" y=\"145.032815\"/>\n      </g>\n     </g>\n     <g id=\"text_10\">\n      <!-- 17.5 -->\n      <g transform=\"translate(7.2 148.832033)scale(0.1 -0.1)\">\n       <defs>\n        <path d=\"M 525 4666 \nL 3525 4666 \nL 3525 4397 \nL 1831 0 \nL 1172 0 \nL 2766 4134 \nL 525 4134 \nL 525 4666 \nz\n\" id=\"DejaVuSans-37\" transform=\"scale(0.015625)\"/>\n       </defs>\n       <use xlink:href=\"#DejaVuSans-31\"/>\n       <use x=\"63.623047\" xlink:href=\"#DejaVuSans-37\"/>\n       <use x=\"127.246094\" xlink:href=\"#DejaVuSans-2e\"/>\n       <use x=\"159.033203\" xlink:href=\"#DejaVuSans-35\"/>\n      </g>\n     </g>\n    </g>\n    <g id=\"ytick_5\">\n     <g id=\"line2d_11\">\n      <g>\n       <use style=\"stroke:#000000;stroke-width:0.8;\" x=\"36.465625\" xlink:href=\"#m479d4733a3\" y=\"120.055725\"/>\n      </g>\n     </g>\n     <g id=\"text_11\">\n      <!-- 20.0 -->\n      <g transform=\"translate(7.2 123.854943)scale(0.1 -0.1)\">\n       <use xlink:href=\"#DejaVuSans-32\"/>\n       <use x=\"63.623047\" xlink:href=\"#DejaVuSans-30\"/>\n       <use x=\"127.246094\" xlink:href=\"#DejaVuSans-2e\"/>\n       <use x=\"159.033203\" xlink:href=\"#DejaVuSans-30\"/>\n      </g>\n     </g>\n    </g>\n    <g id=\"ytick_6\">\n     <g id=\"line2d_12\">\n      <g>\n       <use style=\"stroke:#000000;stroke-width:0.8;\" x=\"36.465625\" xlink:href=\"#m479d4733a3\" y=\"95.078635\"/>\n      </g>\n     </g>\n     <g id=\"text_12\">\n      <!-- 22.5 -->\n      <g transform=\"translate(7.2 98.877854)scale(0.1 -0.1)\">\n       <use xlink:href=\"#DejaVuSans-32\"/>\n       <use x=\"63.623047\" xlink:href=\"#DejaVuSans-32\"/>\n       <use x=\"127.246094\" xlink:href=\"#DejaVuSans-2e\"/>\n       <use x=\"159.033203\" xlink:href=\"#DejaVuSans-35\"/>\n      </g>\n     </g>\n    </g>\n    <g id=\"ytick_7\">\n     <g id=\"line2d_13\">\n      <g>\n       <use style=\"stroke:#000000;stroke-width:0.8;\" x=\"36.465625\" xlink:href=\"#m479d4733a3\" y=\"70.101545\"/>\n      </g>\n     </g>\n     <g id=\"text_13\">\n      <!-- 25.0 -->\n      <g transform=\"translate(7.2 73.900764)scale(0.1 -0.1)\">\n       <use xlink:href=\"#DejaVuSans-32\"/>\n       <use x=\"63.623047\" xlink:href=\"#DejaVuSans-35\"/>\n       <use x=\"127.246094\" xlink:href=\"#DejaVuSans-2e\"/>\n       <use x=\"159.033203\" xlink:href=\"#DejaVuSans-30\"/>\n      </g>\n     </g>\n    </g>\n    <g id=\"ytick_8\">\n     <g id=\"line2d_14\">\n      <g>\n       <use style=\"stroke:#000000;stroke-width:0.8;\" x=\"36.465625\" xlink:href=\"#m479d4733a3\" y=\"45.124455\"/>\n      </g>\n     </g>\n     <g id=\"text_14\">\n      <!-- 27.5 -->\n      <g transform=\"translate(7.2 48.923674)scale(0.1 -0.1)\">\n       <use xlink:href=\"#DejaVuSans-32\"/>\n       <use x=\"63.623047\" xlink:href=\"#DejaVuSans-37\"/>\n       <use x=\"127.246094\" xlink:href=\"#DejaVuSans-2e\"/>\n       <use x=\"159.033203\" xlink:href=\"#DejaVuSans-35\"/>\n      </g>\n     </g>\n    </g>\n    <g id=\"ytick_9\">\n     <g id=\"line2d_15\">\n      <g>\n       <use style=\"stroke:#000000;stroke-width:0.8;\" x=\"36.465625\" xlink:href=\"#m479d4733a3\" y=\"20.147365\"/>\n      </g>\n     </g>\n     <g id=\"text_15\">\n      <!-- 30.0 -->\n      <g transform=\"translate(7.2 23.946584)scale(0.1 -0.1)\">\n       <defs>\n        <path d=\"M 2597 2516 \nQ 3050 2419 3304 2112 \nQ 3559 1806 3559 1356 \nQ 3559 666 3084 287 \nQ 2609 -91 1734 -91 \nQ 1441 -91 1130 -33 \nQ 819 25 488 141 \nL 488 750 \nQ 750 597 1062 519 \nQ 1375 441 1716 441 \nQ 2309 441 2620 675 \nQ 2931 909 2931 1356 \nQ 2931 1769 2642 2001 \nQ 2353 2234 1838 2234 \nL 1294 2234 \nL 1294 2753 \nL 1863 2753 \nQ 2328 2753 2575 2939 \nQ 2822 3125 2822 3475 \nQ 2822 3834 2567 4026 \nQ 2313 4219 1838 4219 \nQ 1578 4219 1281 4162 \nQ 984 4106 628 3988 \nL 628 4550 \nQ 988 4650 1302 4700 \nQ 1616 4750 1894 4750 \nQ 2613 4750 3031 4423 \nQ 3450 4097 3450 3541 \nQ 3450 3153 3228 2886 \nQ 3006 2619 2597 2516 \nz\n\" id=\"DejaVuSans-33\" transform=\"scale(0.015625)\"/>\n       </defs>\n       <use xlink:href=\"#DejaVuSans-33\"/>\n       <use x=\"63.623047\" xlink:href=\"#DejaVuSans-30\"/>\n       <use x=\"127.246094\" xlink:href=\"#DejaVuSans-2e\"/>\n       <use x=\"159.033203\" xlink:href=\"#DejaVuSans-30\"/>\n      </g>\n     </g>\n    </g>\n   </g>\n   <g id=\"patch_3\">\n    <path d=\"M 36.465625 224.64 \nL 36.465625 7.2 \n\" style=\"fill:none;stroke:#000000;stroke-linecap:square;stroke-linejoin:miter;stroke-width:0.8;\"/>\n   </g>\n   <g id=\"patch_4\">\n    <path d=\"M 371.265625 224.64 \nL 371.265625 7.2 \n\" style=\"fill:none;stroke:#000000;stroke-linecap:square;stroke-linejoin:miter;stroke-width:0.8;\"/>\n   </g>\n   <g id=\"patch_5\">\n    <path d=\"M 36.465625 224.64 \nL 371.265625 224.64 \n\" style=\"fill:none;stroke:#000000;stroke-linecap:square;stroke-linejoin:miter;stroke-width:0.8;\"/>\n   </g>\n   <g id=\"patch_6\">\n    <path d=\"M 36.465625 7.2 \nL 371.265625 7.2 \n\" style=\"fill:none;stroke:#000000;stroke-linecap:square;stroke-linejoin:miter;stroke-width:0.8;\"/>\n   </g>\n  </g>\n </g>\n <defs>\n  <clipPath id=\"pb2483f208e\">\n   <rect height=\"217.44\" width=\"334.8\" x=\"36.465625\" y=\"7.2\"/>\n  </clipPath>\n </defs>\n</svg>\n",
      "text/plain": [
       "<Figure size 432x288 with 1 Axes>"
      ]
     },
     "metadata": {
      "needs_background": "light"
     }
    }
   ],
   "metadata": {}
  },
  {
   "cell_type": "markdown",
   "source": [
    "## Example2: Turning Iris Dataset into torch dataset"
   ],
   "metadata": {}
  },
  {
   "cell_type": "code",
   "execution_count": 43,
   "source": [
    "class Iris_DataSet(Dataset):\n",
    "    def __init__(self):\n",
    "\n",
    "        import seaborn as sns\n",
    "        import pandas as pd\n",
    "        iris = sns.load_dataset('iris')\n",
    "        iris = iris[iris.species != 'virginica']\n",
    "\n",
    "        self.df = iris\n",
    "        self.n = iris.shape[0]\n",
    "        self.species_val = {'setosa' : 0,\n",
    "                            'versicolor': 1}\n",
    "    \n",
    "    def __len__(self):\n",
    "        return self.n \n",
    "    \n",
    "    def __getitem__(self, idx):\n",
    "        # convert the row of data on-the-fly cuz sometimes when the dataset\n",
    "        # is really large transform all the dataset into tensor in the __init__\n",
    "        # could be time consuming, and RAM overwhelming as well \n",
    "        \n",
    "        row = self.df.iloc[idx]\n",
    "        # you need to transform to float\n",
    "        x = torch.tensor([row['sepal_length'],\n",
    "                          row['sepal_width']]).float()\n",
    "\n",
    "        # you need to transform to float\n",
    "        y = torch.tensor(self.species_val[row['species']]).float()\n",
    "        \n",
    "        return x, y"
   ],
   "outputs": [],
   "metadata": {}
  },
  {
   "cell_type": "code",
   "execution_count": 44,
   "source": [
    "iris_ds = Iris_DataSet()\n",
    "next(iter(iris_ds))"
   ],
   "outputs": [
    {
     "output_type": "execute_result",
     "data": {
      "text/plain": [
       "(tensor([5.1000, 3.5000]), tensor(0.))"
      ]
     },
     "metadata": {},
     "execution_count": 44
    }
   ],
   "metadata": {}
  },
  {
   "cell_type": "markdown",
   "source": [
    "In general a good rule of thumb for what to do on-the-fly vs. preprocessing:\n",
    "\n",
    "- If it is random alteration (data augmentation): on-the-fly\n",
    "- If it is a time-consuming step that is also the same each time: preprocessing"
   ],
   "metadata": {}
  },
  {
   "cell_type": "markdown",
   "source": [
    "# Create DataLoader\n",
    "\n",
    "\n",
    "The Dataloader helps us iterate over a Dataset\n",
    "\n",
    "- can choose batch size (process the data in batch automatically) we could put less attension on batch\n",
    "- can shuffle the data\n",
    "- can be retrieved in parallel\n",
    "- automatically collates tensors"
   ],
   "metadata": {}
  },
  {
   "cell_type": "code",
   "execution_count": 51,
   "source": [
    "from torch.utils.data import DataLoader\n",
    "\n",
    "iris_dl = DataLoader(iris_ds, batch_size=10, shuffle=True)\n",
    "\n",
    "x, y = next(iter(iris_dl))\n",
    "\n",
    "# notice that since we set batch_size = 10\n",
    "# each time the gradient descent will see this 10 rows of data shape=(10,2)\n",
    "# and then update the gradient and corresponding parameters\n",
    "print(x.shape, y.shape, \"\\n\")\n",
    "\n",
    "print(x, y)"
   ],
   "outputs": [
    {
     "output_type": "stream",
     "name": "stdout",
     "text": [
      "torch.Size([10, 2]) torch.Size([10]) \n",
      "\n",
      "tensor([[5.6000, 3.0000],\n",
      "        [6.3000, 3.3000],\n",
      "        [5.0000, 3.6000],\n",
      "        [6.2000, 2.2000],\n",
      "        [5.8000, 4.0000],\n",
      "        [5.5000, 2.4000],\n",
      "        [5.7000, 3.0000],\n",
      "        [6.3000, 2.3000],\n",
      "        [6.0000, 2.7000],\n",
      "        [6.7000, 3.1000]]) tensor([1., 1., 0., 1., 0., 1., 1., 1., 1., 1.])\n"
     ]
    }
   ],
   "metadata": {}
  },
  {
   "cell_type": "code",
   "execution_count": null,
   "source": [],
   "outputs": [],
   "metadata": {}
  },
  {
   "cell_type": "markdown",
   "source": [
    "# Modeling Training"
   ],
   "metadata": {}
  },
  {
   "cell_type": "code",
   "execution_count": 110,
   "source": [
    "import torch.nn as nn\n",
    "\n",
    "class threeLayerNN(nn.Module): # \n",
    "\n",
    "    def __init__(self, input_dim, hidden_dim, output_dim):\n",
    "        # super(threeLayerNN,self) will find threeeLayerNN's parent class (which is nn.Module) and inialize it (inherit)\n",
    "        # 然后把类 Child 的对象转换为类 Parent 的对象, when threeLayerNN's forward function is called it will use children \n",
    "        # overwritten function, if other functions (not overwritten) 're got called, threeLayerNN will call parent's funciton\n",
    "        super().__init__() # https://python3-cookbook.readthedocs.io/zh_CN/latest/c08/p07_calling_method_on_parent_class.html\n",
    "        self.linear1 = nn.Linear(input_dim, hidden_dim)\n",
    "        self.linear2 = nn.Linear(hidden_dim, output_dim)\n",
    "        self.relu = nn.ReLU()\n",
    "\n",
    "    def forward(self, x):\n",
    "        # will be automatically triggered when the x\n",
    "        # pass through the threeLayerNN eg. y = model(x)\n",
    "        # model = threeLayerNN()\n",
    "        x = self.linear1(x)\n",
    "        x = self.relu(x)\n",
    "        x = self.linear2(x)\n",
    "        # squeeze(x) 将输入张量x形状中的1 去除并返回。 如果输入是形如(A×1×B×1×C×1×D)，那么输出形状就为： (A×B×C×D)\n",
    "        return torch.squeeze(x) # More anout torch squeeze https://zhuanlan.zhihu.com/p/86763381"
   ],
   "outputs": [],
   "metadata": {}
  },
  {
   "cell_type": "code",
   "execution_count": 111,
   "source": [
    "model = threeLayerNN(2, 5, 1)\n",
    "print(model, \"\\n\")\n",
    "\n",
    "from torchsummary import summary\n",
    "summary(model, input_size = (2,), device='cpu')\n",
    "#                            ^\n",
    "#                            | \n",
    "#                  should mactch 2 in (2, 5, 1)"
   ],
   "outputs": [
    {
     "output_type": "stream",
     "name": "stdout",
     "text": [
      "threeLayerNN(\n",
      "  (linear1): Linear(in_features=2, out_features=5, bias=True)\n",
      "  (linear2): Linear(in_features=5, out_features=1, bias=True)\n",
      "  (relu): ReLU()\n",
      ") \n",
      "\n",
      "----------------------------------------------------------------\n",
      "        Layer (type)               Output Shape         Param #\n",
      "================================================================\n",
      "            Linear-1                    [-1, 5]              15\n",
      "              ReLU-2                    [-1, 5]               0\n",
      "            Linear-3                    [-1, 1]               6\n",
      "================================================================\n",
      "Total params: 21\n",
      "Trainable params: 21\n",
      "Non-trainable params: 0\n",
      "----------------------------------------------------------------\n",
      "Input size (MB): 0.00\n",
      "Forward/backward pass size (MB): 0.00\n",
      "Params size (MB): 0.00\n",
      "Estimated Total Size (MB): 0.00\n",
      "----------------------------------------------------------------\n"
     ]
    }
   ],
   "metadata": {}
  },
  {
   "cell_type": "code",
   "execution_count": 112,
   "source": [
    "from torchviz import make_dot\n",
    "make_dot(model(x), params=dict(list(model.named_parameters())))"
   ],
   "outputs": [
    {
     "output_type": "execute_result",
     "data": {
      "image/svg+xml": "<?xml version=\"1.0\" encoding=\"UTF-8\" standalone=\"no\"?>\n<!DOCTYPE svg PUBLIC \"-//W3C//DTD SVG 1.1//EN\"\n \"http://www.w3.org/Graphics/SVG/1.1/DTD/svg11.dtd\">\n<!-- Generated by graphviz version 2.47.2 (20210527.0053)\n -->\n<!-- Pages: 1 -->\n<svg width=\"338pt\" height=\"480pt\"\n viewBox=\"0.00 0.00 338.00 480.00\" xmlns=\"http://www.w3.org/2000/svg\" xmlns:xlink=\"http://www.w3.org/1999/xlink\">\n<g id=\"graph0\" class=\"graph\" transform=\"scale(1 1) rotate(0) translate(4 476)\">\n<polygon fill=\"white\" stroke=\"transparent\" points=\"-4,4 -4,-476 334,-476 334,4 -4,4\"/>\n<!-- 140322987336240 -->\n<g id=\"node1\" class=\"node\">\n<title>140322987336240</title>\n<polygon fill=\"#caff70\" stroke=\"black\" points=\"193.5,-31 139.5,-31 139.5,0 193.5,0 193.5,-31\"/>\n<text text-anchor=\"middle\" x=\"166.5\" y=\"-7\" font-family=\"monospace\" font-size=\"10.00\"> (10)</text>\n</g>\n<!-- 140321688224912 -->\n<g id=\"node2\" class=\"node\">\n<title>140321688224912</title>\n<polygon fill=\"lightgrey\" stroke=\"black\" points=\"170,-92 57,-92 57,-73 170,-73 170,-92\"/>\n<text text-anchor=\"middle\" x=\"113.5\" y=\"-80\" font-family=\"monospace\" font-size=\"10.00\">SqueezeBackward0</text>\n</g>\n<!-- 140321688224912&#45;&gt;140322987336240 -->\n<g id=\"edge14\" class=\"edge\">\n<title>140321688224912&#45;&gt;140322987336240</title>\n<path fill=\"none\" stroke=\"black\" d=\"M120.65,-72.73C127.65,-64.15 138.62,-50.69 148.07,-39.1\"/>\n<polygon fill=\"black\" stroke=\"black\" points=\"151,-41.05 154.61,-31.08 145.58,-36.62 151,-41.05\"/>\n</g>\n<!-- 140323219910224 -->\n<g id=\"node3\" class=\"node\">\n<title>140323219910224</title>\n<polygon fill=\"lightgrey\" stroke=\"black\" points=\"214,-153 119,-153 119,-134 214,-134 214,-153\"/>\n<text text-anchor=\"middle\" x=\"166.5\" y=\"-141\" font-family=\"monospace\" font-size=\"10.00\">AddmmBackward</text>\n</g>\n<!-- 140323219910224&#45;&gt;140321688224912 -->\n<g id=\"edge1\" class=\"edge\">\n<title>140323219910224&#45;&gt;140321688224912</title>\n<path fill=\"none\" stroke=\"black\" d=\"M158.68,-133.79C150.69,-124.91 138.11,-110.89 128.24,-99.91\"/>\n<polygon fill=\"black\" stroke=\"black\" points=\"130.64,-97.34 121.35,-92.24 125.43,-102.02 130.64,-97.34\"/>\n</g>\n<!-- 140323220180016 -->\n<g id=\"node16\" class=\"node\">\n<title>140323220180016</title>\n<polygon fill=\"#a2cd5a\" stroke=\"black\" points=\"253,-98 188,-98 188,-67 253,-67 253,-98\"/>\n<text text-anchor=\"middle\" x=\"220.5\" y=\"-74\" font-family=\"monospace\" font-size=\"10.00\"> (10, 1)</text>\n</g>\n<!-- 140323219910224&#45;&gt;140323220180016 -->\n<g id=\"edge15\" class=\"edge\">\n<title>140323219910224&#45;&gt;140323220180016</title>\n<path fill=\"none\" stroke=\"black\" d=\"M174.47,-133.79C181.23,-126.41 191.23,-115.49 200.18,-105.7\"/>\n<polygon fill=\"black\" stroke=\"black\" points=\"202.88,-107.93 207.05,-98.19 197.72,-103.21 202.88,-107.93\"/>\n</g>\n<!-- 140321688225424 -->\n<g id=\"node4\" class=\"node\">\n<title>140321688225424</title>\n<polygon fill=\"lightgrey\" stroke=\"black\" points=\"101,-208 0,-208 0,-189 101,-189 101,-208\"/>\n<text text-anchor=\"middle\" x=\"50.5\" y=\"-196\" font-family=\"monospace\" font-size=\"10.00\">AccumulateGrad</text>\n</g>\n<!-- 140321688225424&#45;&gt;140323219910224 -->\n<g id=\"edge2\" class=\"edge\">\n<title>140321688225424&#45;&gt;140323219910224</title>\n<path fill=\"none\" stroke=\"black\" d=\"M69.14,-188.98C87.8,-180.46 116.75,-167.23 138.24,-157.41\"/>\n<polygon fill=\"black\" stroke=\"black\" points=\"139.88,-160.51 147.52,-153.17 136.97,-154.14 139.88,-160.51\"/>\n</g>\n<!-- 140322986769776 -->\n<g id=\"node5\" class=\"node\">\n<title>140322986769776</title>\n<polygon fill=\"lightblue\" stroke=\"black\" points=\"95,-274 6,-274 6,-244 95,-244 95,-274\"/>\n<text text-anchor=\"middle\" x=\"50.5\" y=\"-262\" font-family=\"monospace\" font-size=\"10.00\">linear2.bias</text>\n<text text-anchor=\"middle\" x=\"50.5\" y=\"-251\" font-family=\"monospace\" font-size=\"10.00\"> (1)</text>\n</g>\n<!-- 140322986769776&#45;&gt;140321688225424 -->\n<g id=\"edge3\" class=\"edge\">\n<title>140322986769776&#45;&gt;140321688225424</title>\n<path fill=\"none\" stroke=\"black\" d=\"M50.5,-243.84C50.5,-236.21 50.5,-226.7 50.5,-218.45\"/>\n<polygon fill=\"black\" stroke=\"black\" points=\"54,-218.27 50.5,-208.27 47,-218.27 54,-218.27\"/>\n</g>\n<!-- 140321688223952 -->\n<g id=\"node6\" class=\"node\">\n<title>140321688223952</title>\n<polygon fill=\"lightgrey\" stroke=\"black\" points=\"214,-208 119,-208 119,-189 214,-189 214,-208\"/>\n<text text-anchor=\"middle\" x=\"166.5\" y=\"-196\" font-family=\"monospace\" font-size=\"10.00\">ReluBackward0</text>\n</g>\n<!-- 140321688223952&#45;&gt;140323219910224 -->\n<g id=\"edge4\" class=\"edge\">\n<title>140321688223952&#45;&gt;140323219910224</title>\n<path fill=\"none\" stroke=\"black\" d=\"M166.5,-188.75C166.5,-181.8 166.5,-171.85 166.5,-163.13\"/>\n<polygon fill=\"black\" stroke=\"black\" points=\"170,-163.09 166.5,-153.09 163,-163.09 170,-163.09\"/>\n</g>\n<!-- 140321688226576 -->\n<g id=\"node7\" class=\"node\">\n<title>140321688226576</title>\n<polygon fill=\"lightgrey\" stroke=\"black\" points=\"211,-268.5 116,-268.5 116,-249.5 211,-249.5 211,-268.5\"/>\n<text text-anchor=\"middle\" x=\"163.5\" y=\"-256.5\" font-family=\"monospace\" font-size=\"10.00\">AddmmBackward</text>\n</g>\n<!-- 140321688226576&#45;&gt;140321688223952 -->\n<g id=\"edge5\" class=\"edge\">\n<title>140321688226576&#45;&gt;140321688223952</title>\n<path fill=\"none\" stroke=\"black\" d=\"M163.94,-249.37C164.36,-241.25 165,-228.81 165.53,-218.39\"/>\n<polygon fill=\"black\" stroke=\"black\" points=\"169.04,-218.33 166.06,-208.17 162.05,-217.97 169.04,-218.33\"/>\n</g>\n<!-- 140321560037456 -->\n<g id=\"node8\" class=\"node\">\n<title>140321560037456</title>\n<polygon fill=\"lightgrey\" stroke=\"black\" points=\"112,-334.5 11,-334.5 11,-315.5 112,-315.5 112,-334.5\"/>\n<text text-anchor=\"middle\" x=\"61.5\" y=\"-322.5\" font-family=\"monospace\" font-size=\"10.00\">AccumulateGrad</text>\n</g>\n<!-- 140321560037456&#45;&gt;140321688226576 -->\n<g id=\"edge6\" class=\"edge\">\n<title>140321560037456&#45;&gt;140321688226576</title>\n<path fill=\"none\" stroke=\"black\" d=\"M75.26,-315.37C92.14,-304.78 120.99,-286.67 141.09,-274.06\"/>\n<polygon fill=\"black\" stroke=\"black\" points=\"143.03,-276.98 149.64,-268.7 139.31,-271.05 143.03,-276.98\"/>\n</g>\n<!-- 140323221900656 -->\n<g id=\"node9\" class=\"node\">\n<title>140323221900656</title>\n<polygon fill=\"lightblue\" stroke=\"black\" points=\"104,-406 15,-406 15,-376 104,-376 104,-406\"/>\n<text text-anchor=\"middle\" x=\"59.5\" y=\"-394\" font-family=\"monospace\" font-size=\"10.00\">linear1.bias</text>\n<text text-anchor=\"middle\" x=\"59.5\" y=\"-383\" font-family=\"monospace\" font-size=\"10.00\"> (5)</text>\n</g>\n<!-- 140323221900656&#45;&gt;140321560037456 -->\n<g id=\"edge7\" class=\"edge\">\n<title>140323221900656&#45;&gt;140321560037456</title>\n<path fill=\"none\" stroke=\"black\" d=\"M59.94,-375.8C60.23,-366.7 60.6,-354.79 60.91,-344.9\"/>\n<polygon fill=\"black\" stroke=\"black\" points=\"64.41,-344.95 61.22,-334.84 57.41,-344.73 64.41,-344.95\"/>\n</g>\n<!-- 140321560036176 -->\n<g id=\"node10\" class=\"node\">\n<title>140321560036176</title>\n<polygon fill=\"lightgrey\" stroke=\"black\" points=\"205,-334.5 134,-334.5 134,-315.5 205,-315.5 205,-334.5\"/>\n<text text-anchor=\"middle\" x=\"169.5\" y=\"-322.5\" font-family=\"monospace\" font-size=\"10.00\">TBackward</text>\n</g>\n<!-- 140321560036176&#45;&gt;140321688226576 -->\n<g id=\"edge8\" class=\"edge\">\n<title>140321560036176&#45;&gt;140321688226576</title>\n<path fill=\"none\" stroke=\"black\" d=\"M168.69,-315.37C167.82,-306.07 166.4,-290.98 165.27,-278.9\"/>\n<polygon fill=\"black\" stroke=\"black\" points=\"168.75,-278.53 164.33,-268.91 161.78,-279.19 168.75,-278.53\"/>\n</g>\n<!-- 140321560038928 -->\n<g id=\"node11\" class=\"node\">\n<title>140321560038928</title>\n<polygon fill=\"lightgrey\" stroke=\"black\" points=\"223,-400.5 122,-400.5 122,-381.5 223,-381.5 223,-400.5\"/>\n<text text-anchor=\"middle\" x=\"172.5\" y=\"-388.5\" font-family=\"monospace\" font-size=\"10.00\">AccumulateGrad</text>\n</g>\n<!-- 140321560038928&#45;&gt;140321560036176 -->\n<g id=\"edge9\" class=\"edge\">\n<title>140321560038928&#45;&gt;140321560036176</title>\n<path fill=\"none\" stroke=\"black\" d=\"M172.1,-381.37C171.66,-372.07 170.95,-356.98 170.39,-344.9\"/>\n<polygon fill=\"black\" stroke=\"black\" points=\"173.88,-344.73 169.92,-334.91 166.89,-345.06 173.88,-344.73\"/>\n</g>\n<!-- 140322987415424 -->\n<g id=\"node12\" class=\"node\">\n<title>140322987415424</title>\n<polygon fill=\"lightblue\" stroke=\"black\" points=\"223,-472 122,-472 122,-442 223,-442 223,-472\"/>\n<text text-anchor=\"middle\" x=\"172.5\" y=\"-460\" font-family=\"monospace\" font-size=\"10.00\">linear1.weight</text>\n<text text-anchor=\"middle\" x=\"172.5\" y=\"-449\" font-family=\"monospace\" font-size=\"10.00\"> (5, 2)</text>\n</g>\n<!-- 140322987415424&#45;&gt;140321560038928 -->\n<g id=\"edge10\" class=\"edge\">\n<title>140322987415424&#45;&gt;140321560038928</title>\n<path fill=\"none\" stroke=\"black\" d=\"M172.5,-441.8C172.5,-432.7 172.5,-420.79 172.5,-410.9\"/>\n<polygon fill=\"black\" stroke=\"black\" points=\"176,-410.84 172.5,-400.84 169,-410.84 176,-410.84\"/>\n</g>\n<!-- 140321560035984 -->\n<g id=\"node13\" class=\"node\">\n<title>140321560035984</title>\n<polygon fill=\"lightgrey\" stroke=\"black\" points=\"307,-208 236,-208 236,-189 307,-189 307,-208\"/>\n<text text-anchor=\"middle\" x=\"271.5\" y=\"-196\" font-family=\"monospace\" font-size=\"10.00\">TBackward</text>\n</g>\n<!-- 140321560035984&#45;&gt;140323219910224 -->\n<g id=\"edge11\" class=\"edge\">\n<title>140321560035984&#45;&gt;140323219910224</title>\n<path fill=\"none\" stroke=\"black\" d=\"M254.63,-188.98C237.89,-180.54 212,-167.47 192.61,-157.68\"/>\n<polygon fill=\"black\" stroke=\"black\" points=\"194.18,-154.55 183.68,-153.17 191.03,-160.8 194.18,-154.55\"/>\n</g>\n<!-- 140321560036880 -->\n<g id=\"node14\" class=\"node\">\n<title>140321560036880</title>\n<polygon fill=\"lightgrey\" stroke=\"black\" points=\"330,-268.5 229,-268.5 229,-249.5 330,-249.5 330,-268.5\"/>\n<text text-anchor=\"middle\" x=\"279.5\" y=\"-256.5\" font-family=\"monospace\" font-size=\"10.00\">AccumulateGrad</text>\n</g>\n<!-- 140321560036880&#45;&gt;140321560035984 -->\n<g id=\"edge12\" class=\"edge\">\n<title>140321560036880&#45;&gt;140321560035984</title>\n<path fill=\"none\" stroke=\"black\" d=\"M278.32,-249.37C277.21,-241.25 275.51,-228.81 274.08,-218.39\"/>\n<polygon fill=\"black\" stroke=\"black\" points=\"277.51,-217.6 272.69,-208.17 270.57,-218.55 277.51,-217.6\"/>\n</g>\n<!-- 140322936241840 -->\n<g id=\"node15\" class=\"node\">\n<title>140322936241840</title>\n<polygon fill=\"lightblue\" stroke=\"black\" points=\"330,-340 229,-340 229,-310 330,-310 330,-340\"/>\n<text text-anchor=\"middle\" x=\"279.5\" y=\"-328\" font-family=\"monospace\" font-size=\"10.00\">linear2.weight</text>\n<text text-anchor=\"middle\" x=\"279.5\" y=\"-317\" font-family=\"monospace\" font-size=\"10.00\"> (1, 5)</text>\n</g>\n<!-- 140322936241840&#45;&gt;140321560036880 -->\n<g id=\"edge13\" class=\"edge\">\n<title>140322936241840&#45;&gt;140321560036880</title>\n<path fill=\"none\" stroke=\"black\" d=\"M279.5,-309.8C279.5,-300.7 279.5,-288.79 279.5,-278.9\"/>\n<polygon fill=\"black\" stroke=\"black\" points=\"283,-278.84 279.5,-268.84 276,-278.84 283,-278.84\"/>\n</g>\n<!-- 140323220180016&#45;&gt;140322987336240 -->\n<g id=\"edge16\" class=\"edge\">\n<title>140323220180016&#45;&gt;140322987336240</title>\n<path fill=\"none\" stroke=\"black\" stroke-dasharray=\"1,5\" d=\"M208.25,-66.75C201.41,-58.52 192.76,-48.11 185.1,-38.89\"/>\n<polygon fill=\"black\" stroke=\"black\" points=\"187.79,-36.65 178.7,-31.19 182.4,-41.12 187.79,-36.65\"/>\n</g>\n</g>\n</svg>\n",
      "text/plain": [
       "<graphviz.dot.Digraph at 0x7f9f30618250>"
      ]
     },
     "metadata": {},
     "execution_count": 112
    }
   ],
   "metadata": {}
  },
  {
   "cell_type": "code",
   "execution_count": 125,
   "source": [
    "\n",
    "dir(model) # we only rewrite forward and init other functions available \n",
    "# are inherited from parent class (nn,Module)"
   ],
   "outputs": [
    {
     "output_type": "execute_result",
     "data": {
      "text/plain": [
       "['T_destination',\n",
       " '__annotations__',\n",
       " '__call__',\n",
       " '__class__',\n",
       " '__delattr__',\n",
       " '__dict__',\n",
       " '__dir__',\n",
       " '__doc__',\n",
       " '__eq__',\n",
       " '__format__',\n",
       " '__ge__',\n",
       " '__getattr__',\n",
       " '__getattribute__',\n",
       " '__gt__',\n",
       " '__hash__',\n",
       " '__init__',\n",
       " '__init_subclass__',\n",
       " '__le__',\n",
       " '__lt__',\n",
       " '__module__',\n",
       " '__ne__',\n",
       " '__new__',\n",
       " '__reduce__',\n",
       " '__reduce_ex__',\n",
       " '__repr__',\n",
       " '__setattr__',\n",
       " '__setstate__',\n",
       " '__sizeof__',\n",
       " '__str__',\n",
       " '__subclasshook__',\n",
       " '__weakref__',\n",
       " '_apply',\n",
       " '_backward_hooks',\n",
       " '_buffers',\n",
       " '_call_impl',\n",
       " '_forward_hooks',\n",
       " '_forward_pre_hooks',\n",
       " '_get_backward_hooks',\n",
       " '_get_name',\n",
       " '_is_full_backward_hook',\n",
       " '_load_from_state_dict',\n",
       " '_load_state_dict_pre_hooks',\n",
       " '_maybe_warn_non_full_backward_hook',\n",
       " '_modules',\n",
       " '_named_members',\n",
       " '_non_persistent_buffers_set',\n",
       " '_parameters',\n",
       " '_register_load_state_dict_pre_hook',\n",
       " '_register_state_dict_hook',\n",
       " '_replicate_for_data_parallel',\n",
       " '_save_to_state_dict',\n",
       " '_slow_forward',\n",
       " '_state_dict_hooks',\n",
       " '_version',\n",
       " 'add_module',\n",
       " 'apply',\n",
       " 'bfloat16',\n",
       " 'buffers',\n",
       " 'children',\n",
       " 'cpu',\n",
       " 'cuda',\n",
       " 'double',\n",
       " 'dump_patches',\n",
       " 'eval',\n",
       " 'extra_repr',\n",
       " 'float',\n",
       " 'forward',\n",
       " 'half',\n",
       " 'linear1',\n",
       " 'linear2',\n",
       " 'load_state_dict',\n",
       " 'modules',\n",
       " 'named_buffers',\n",
       " 'named_children',\n",
       " 'named_modules',\n",
       " 'named_parameters',\n",
       " 'parameters',\n",
       " 'register_backward_hook',\n",
       " 'register_buffer',\n",
       " 'register_forward_hook',\n",
       " 'register_forward_pre_hook',\n",
       " 'register_full_backward_hook',\n",
       " 'register_parameter',\n",
       " 'relu',\n",
       " 'requires_grad_',\n",
       " 'share_memory',\n",
       " 'state_dict',\n",
       " 'to',\n",
       " 'train',\n",
       " 'training',\n",
       " 'type',\n",
       " 'xpu',\n",
       " 'zero_grad']"
      ]
     },
     "metadata": {},
     "execution_count": 125
    }
   ],
   "metadata": {}
  },
  {
   "cell_type": "markdown",
   "source": [
    "# Model Training\n",
    "\n",
    "We need the following ingredients\n",
    "\n",
    "- A loss function for our model\n",
    "- An optimization algorithm"
   ],
   "metadata": {}
  },
  {
   "cell_type": "code",
   "execution_count": 113,
   "source": [
    "import torch.optim as optim\n",
    "\n",
    "# feeds outputs through a sigmoid before computing BCE Loss\n",
    "lossFun = nn.BCEWithLogitsLoss()\n",
    "optimizer = optim.Adam(model.parameters(), lr = 0.001)"
   ],
   "outputs": [],
   "metadata": {}
  },
  {
   "cell_type": "code",
   "execution_count": 117,
   "source": [
    "def one_epoch_test(data):\n",
    "# adjust the gradients according to one batch\n",
    "    x, y = next(iter(data))\n",
    "    # ----------------------------------------------------------------------------------------------------------\n",
    "    # some layers will do different things during training/prediction (i.e. dropout)\n",
    "\n",
    "    # model.train() tells your model that you are training the model. So effectively layers like dropout, batchnorm etc. which      behave different on the train and test procedures know what is going on and hence can behave accordingly.\n",
    "    # More details: It sets the mode to train (see source code). You can call either model.eval() or model.train(mode=False) to  tell that you are testing. It is somewhat intuitive to expect train function to train model but it does not do that. It just sets the mode.\n",
    "    # ----------------------------------------------------------------------------------------------------------\n",
    "    model.train()\n",
    "    # compute the predictions then loss\n",
    "    y_pred = model(x)\n",
    "    loss = lossFun(y_pred, y)\n",
    "    print(\"loss: \", loss.item())\n",
    "    # zero out the gradients in the optimizer (otherwise they will accumulate)\n",
    "    optimizer.zero_grad()\n",
    "    # compute the gradients w.r.t. loss function\n",
    "    loss.backward()\n",
    "    # adjust weights!\n",
    "    optimizer.step()"
   ],
   "outputs": [],
   "metadata": {}
  },
  {
   "cell_type": "code",
   "execution_count": 118,
   "source": [
    "one_epoch_test(data=iris_dl) # pass with data_loader"
   ],
   "outputs": [
    {
     "output_type": "stream",
     "name": "stdout",
     "text": [
      "loss:  0.6760271787643433\n"
     ]
    }
   ],
   "metadata": {}
  },
  {
   "cell_type": "code",
   "execution_count": 119,
   "source": [
    "# very crude training loop (you'll make a fancier one in your first lab)\n",
    "def training(data, epoch):\n",
    "    for epoch in range(epoch):\n",
    "        for x, y in data:\n",
    "            model.train()\n",
    "            y_pred = model(x)\n",
    "            loss = lossFun(y_pred, y)\n",
    "            print(\"loss: \", loss.item())\n",
    "            \n",
    "            optimizer.zero_grad()\n",
    "            # stochastic gradident descent\n",
    "            loss.backward()\n",
    "            optimizer.step()"
   ],
   "outputs": [],
   "metadata": {}
  },
  {
   "cell_type": "code",
   "execution_count": 120,
   "source": [
    "training(data=iris_dl, epoch=10)"
   ],
   "outputs": [
    {
     "output_type": "stream",
     "name": "stdout",
     "text": [
      "loss:  0.6325899362564087\n",
      "loss:  0.6626099348068237\n",
      "loss:  0.6943759918212891\n",
      "loss:  0.66548752784729\n",
      "loss:  0.6748172640800476\n",
      "loss:  0.6833077669143677\n",
      "loss:  0.684567928314209\n",
      "loss:  0.6738675236701965\n",
      "loss:  0.6950189471244812\n",
      "loss:  0.6744633316993713\n",
      "loss:  0.6490386724472046\n",
      "loss:  0.6955944895744324\n",
      "loss:  0.6676747798919678\n",
      "loss:  0.6901984214782715\n",
      "loss:  0.6734300851821899\n",
      "loss:  0.6881716251373291\n",
      "loss:  0.6556372046470642\n",
      "loss:  0.6870213150978088\n",
      "loss:  0.6562113761901855\n",
      "loss:  0.6693825721740723\n",
      "loss:  0.6559417843818665\n",
      "loss:  0.6643027067184448\n",
      "loss:  0.6604963541030884\n",
      "loss:  0.667521059513092\n",
      "loss:  0.6908530592918396\n",
      "loss:  0.6805713772773743\n",
      "loss:  0.6803897619247437\n",
      "loss:  0.6843611598014832\n",
      "loss:  0.6564202904701233\n",
      "loss:  0.6849427223205566\n",
      "loss:  0.656692624092102\n",
      "loss:  0.6750779151916504\n",
      "loss:  0.6965506076812744\n",
      "loss:  0.6784185767173767\n",
      "loss:  0.6737068295478821\n",
      "loss:  0.6709839105606079\n",
      "loss:  0.6801451444625854\n",
      "loss:  0.6723887324333191\n",
      "loss:  0.6670361757278442\n",
      "loss:  0.6485615968704224\n",
      "loss:  0.6786702871322632\n",
      "loss:  0.6650851964950562\n",
      "loss:  0.6840265989303589\n",
      "loss:  0.6631447076797485\n",
      "loss:  0.6657023429870605\n",
      "loss:  0.6848735809326172\n",
      "loss:  0.6576722860336304\n",
      "loss:  0.6572707891464233\n",
      "loss:  0.6779374480247498\n",
      "loss:  0.6731353998184204\n",
      "loss:  0.6807883977890015\n",
      "loss:  0.6761037111282349\n",
      "loss:  0.6782854199409485\n",
      "loss:  0.6620734930038452\n",
      "loss:  0.685065746307373\n",
      "loss:  0.6523891687393188\n",
      "loss:  0.6819351315498352\n",
      "loss:  0.6463662385940552\n",
      "loss:  0.6768208742141724\n",
      "loss:  0.6627606153488159\n",
      "loss:  0.6673769950866699\n",
      "loss:  0.6709204316139221\n",
      "loss:  0.6743213534355164\n",
      "loss:  0.6766093373298645\n",
      "loss:  0.6685493588447571\n",
      "loss:  0.6669038534164429\n",
      "loss:  0.6837223768234253\n",
      "loss:  0.6701641082763672\n",
      "loss:  0.6625386476516724\n",
      "loss:  0.6514212489128113\n",
      "loss:  0.6525774002075195\n",
      "loss:  0.6661549806594849\n",
      "loss:  0.665969967842102\n",
      "loss:  0.6736012101173401\n",
      "loss:  0.6667724847793579\n",
      "loss:  0.6792954206466675\n",
      "loss:  0.6756714582443237\n",
      "loss:  0.654007077217102\n",
      "loss:  0.6606564521789551\n",
      "loss:  0.6908171772956848\n",
      "loss:  0.683639407157898\n",
      "loss:  0.6585838198661804\n",
      "loss:  0.6451151967048645\n",
      "loss:  0.6618307828903198\n",
      "loss:  0.671795666217804\n",
      "loss:  0.6812208890914917\n",
      "loss:  0.6542900800704956\n",
      "loss:  0.6764187812805176\n",
      "loss:  0.6730016469955444\n",
      "loss:  0.6693496704101562\n",
      "loss:  0.6808275580406189\n",
      "loss:  0.6605496406555176\n",
      "loss:  0.6786929368972778\n",
      "loss:  0.6512521505355835\n",
      "loss:  0.6565667986869812\n",
      "loss:  0.6552521586418152\n",
      "loss:  0.6784573197364807\n",
      "loss:  0.6743085980415344\n",
      "loss:  0.6642194986343384\n",
      "loss:  0.6660327315330505\n"
     ]
    }
   ],
   "metadata": {}
  },
  {
   "cell_type": "code",
   "execution_count": 131,
   "source": [
    "from torchsummary import summary\n",
    "summary(model, input_size = (2,), device='cpu')"
   ],
   "outputs": [
    {
     "output_type": "stream",
     "name": "stdout",
     "text": [
      "----------------------------------------------------------------\n",
      "        Layer (type)               Output Shape         Param #\n",
      "================================================================\n",
      "            Linear-1                    [-1, 5]              15\n",
      "              ReLU-2                    [-1, 5]               0\n",
      "            Linear-3                    [-1, 1]               6\n",
      "================================================================\n",
      "Total params: 21\n",
      "Trainable params: 21\n",
      "Non-trainable params: 0\n",
      "----------------------------------------------------------------\n",
      "Input size (MB): 0.00\n",
      "Forward/backward pass size (MB): 0.00\n",
      "Params size (MB): 0.00\n",
      "Estimated Total Size (MB): 0.00\n",
      "----------------------------------------------------------------\n"
     ]
    }
   ],
   "metadata": {}
  },
  {
   "cell_type": "markdown",
   "source": [
    "## Check trained parameter"
   ],
   "metadata": {}
  },
  {
   "cell_type": "code",
   "execution_count": 130,
   "source": [
    "for idx, parameter in enumerate(model.parameters()):\n",
    "    print(f\"layer{idx+1}:\", parameter)"
   ],
   "outputs": [
    {
     "output_type": "stream",
     "name": "stdout",
     "text": [
      "layer1: Parameter containing:\n",
      "tensor([[-0.1247,  0.3261],\n",
      "        [ 0.0199,  0.0964],\n",
      "        [ 0.2542, -0.1977],\n",
      "        [ 0.2452, -0.1771],\n",
      "        [ 0.3760,  0.5311]], requires_grad=True)\n",
      "layer2: Parameter containing:\n",
      "tensor([-0.7157, -0.5812,  0.5214,  0.5199, -0.0278], requires_grad=True)\n",
      "layer3: Parameter containing:\n",
      "tensor([[ 0.2839,  0.2613,  0.2179,  0.0984, -0.0394]], requires_grad=True)\n",
      "layer4: Parameter containing:\n",
      "tensor([-0.1911], requires_grad=True)\n"
     ]
    }
   ],
   "metadata": {}
  },
  {
   "cell_type": "markdown",
   "source": [
    "# Make prediction\n"
   ],
   "metadata": {}
  },
  {
   "cell_type": "code",
   "execution_count": 121,
   "source": [
    "x,y = next(iter(iris_dl))\n",
    "# some layers will do different things during training/prediction (i.e. dropout)\n",
    "model.eval()\n",
    "# don't compute gradients\n",
    "with torch.no_grad():\n",
    "    outputs = torch.sigmoid(model(x))\n",
    "\n",
    "\n",
    "y_pred = torch.zeros(10)\n",
    "y_pred[outputs > .5] = 1\n",
    "\n",
    "y_pred, y"
   ],
   "outputs": [
    {
     "output_type": "execute_result",
     "data": {
      "text/plain": [
       "threeLayerNN(\n",
       "  (linear1): Linear(in_features=2, out_features=5, bias=True)\n",
       "  (linear2): Linear(in_features=5, out_features=1, bias=True)\n",
       "  (relu): ReLU()\n",
       ")"
      ]
     },
     "metadata": {},
     "execution_count": 121
    },
    {
     "output_type": "execute_result",
     "data": {
      "text/plain": [
       "(tensor([1., 1., 1., 0., 1., 1., 1., 1., 1., 0.]),\n",
       " tensor([1., 0., 0., 0., 0., 1., 0., 0., 0., 0.]))"
      ]
     },
     "metadata": {},
     "execution_count": 121
    }
   ],
   "metadata": {}
  },
  {
   "cell_type": "markdown",
   "source": [
    "# Save Model"
   ],
   "metadata": {}
  },
  {
   "cell_type": "code",
   "execution_count": null,
   "source": [
    "\n",
    "# save your model parameters and optimizater checkpoint\n",
    "checkpoint = {'model_state_dict': model.state_dict(),\n",
    "              'optimizer_state_dict' :optimizer.state_dict()}\n",
    "torch.save(checkpoint, 'model_checkpoint.pt')\n",
    "\n",
    "\n",
    "# now load them up!\n",
    "checkpoint = torch.load('model_checkpoint.pt')\n",
    "model.load_state_dict(checkpoint['model_state_dict'])\n",
    "optimizer.load_state_dict(checkpoint['optimizer_state_dict'])"
   ],
   "outputs": [],
   "metadata": {}
  },
  {
   "cell_type": "code",
   "execution_count": null,
   "source": [],
   "outputs": [],
   "metadata": {}
  },
  {
   "cell_type": "code",
   "execution_count": null,
   "source": [],
   "outputs": [],
   "metadata": {}
  },
  {
   "cell_type": "markdown",
   "source": [
    "# `Super` and `__init__` in Python\n",
    "\n",
    "- https://python3-cookbook.readthedocs.io/zh_CN/latest/c08/p07_calling_method_on_parent_class.html\n"
   ],
   "metadata": {}
  },
  {
   "cell_type": "code",
   "execution_count": 123,
   "source": [
    "class FooParent(object):\n",
    "    def __init__(self):\n",
    "        self.parent = 'I\\'m the parent.'\n",
    "        print ('Parent')\n",
    "    \n",
    "    def bar(self,message):\n",
    "        print (\"%s from Parent\" % message)\n",
    " \n",
    "class FooChild(FooParent):\n",
    "    def __init__(self):\n",
    "        # super(FooChild,self) 首先找到 FooChild 的父类（就是类 FooParent），然后把类 FooChild 的对象转换为类 FooParent 的对象\n",
    "        super(FooChild,self).__init__()    \n",
    "        print ('Child')\n",
    "        \n",
    "    def bar(self,message):\n",
    "        super(FooChild, self).bar(message) # call bar function from parent)\n",
    "        print ('Child bar fuction')\n",
    "        print (self.parent)\n",
    " \n",
    "# when FooChild() is initilized the parent class will be \n",
    "# initailizaed foreheaded => __init__()\n",
    "fooChild = FooChild()"
   ],
   "outputs": [
    {
     "output_type": "stream",
     "name": "stdout",
     "text": [
      "Parent\n",
      "Child\n"
     ]
    }
   ],
   "metadata": {}
  },
  {
   "cell_type": "code",
   "execution_count": 124,
   "source": [
    "print(\"\\n\")\n",
    "fooChild.bar('Hello World from Janson')\n"
   ],
   "outputs": [
    {
     "output_type": "stream",
     "name": "stdout",
     "text": [
      "\n",
      "\n",
      "Hello World from Janson from Parent\n",
      "Child bar fuction\n",
      "I'm the parent.\n"
     ]
    }
   ],
   "metadata": {}
  },
  {
   "cell_type": "markdown",
   "source": [
    "# Difference `__init__` and `__call__`\n",
    "\n",
    "The first is used to initialise newly created object, and receives arguments used to do that:\n",
    "\n",
    "```raw\n",
    "class Foo:\n",
    "    def __init__(self, a, b, c):\n",
    "        # ...\n",
    "\n",
    "x = Foo(1, 2, 3) # __init__\n",
    "\n",
    "```\n",
    "\n",
    "\n",
    "The second implements function call operator.\n",
    "\n",
    "```raw\n",
    "class Foo:\n",
    "    def __call__(self, a, b, c):\n",
    "        # ...\n",
    "\n",
    "x = Foo() # parenthsis () behind the Foo -> triggers the `__call__` the function\n",
    "x(1, 2, 3) # __call__\n",
    "```"
   ],
   "metadata": {}
  },
  {
   "cell_type": "markdown",
   "source": [
    "# Torch.squeeze()\n",
    "\n",
    "- 先看torch.squeeze() 这个函数主要对数据的维度进行压缩，去掉维数为1的的维度，比如是一行或者一列这种，一个一行三列（1,3）的数去掉第一个维数为一的维度之后就变成（3）行。squeeze(a)就是将a中所有为1的维度删掉。不为1的维度没有影响。a.squeeze(N) 就是去掉a中指定的维数为一的维度。还有一种形式就是b=torch.squeeze(a，N) a中去掉指定的定的维数为一的维度。\n",
    "\n",
    "- 再看torch.unsqueeze()这个函数主要是对数据维度进行扩充。给指定位置加上维数为一的维度，比如原本有个三行的数据（3），在0的位置加了一维就变成一行三列（1,3）。a.squeeze(N) 就是在a中指定位置N加上一个维数为1的维度。还有一种形式就是b=torch.squeeze(a，N) a就是在a中指定位置N加上一个维数为1的维度"
   ],
   "metadata": {}
  },
  {
   "cell_type": "code",
   "execution_count": 126,
   "source": [
    "a = torch.randn(1, 3)\n",
    "print(a)       # tensor([[-0.5938, -0.2567, -0.0624]])\n",
    "print(a.shape, \"\\n\") # torch.Size([1, 3])\n",
    "#                                   ^\n",
    "#.                  unsqueeze(a, 1) add extra dimension here\n",
    "\n",
    "b = torch.unsqueeze(a, 1) \n",
    "print(b)       # tensor([[[ 0.0228,  1.2848, -1.2099]]])\n",
    "print(b.shape) # torch.Size([1, 1, 3])"
   ],
   "outputs": [
    {
     "output_type": "stream",
     "name": "stdout",
     "text": [
      "tensor([[-0.0597, -0.7417, -1.6810]])\n",
      "torch.Size([1, 3]) \n",
      "\n",
      "tensor([[[-0.0597, -0.7417, -1.6810]]])\n",
      "torch.Size([1, 1, 3])\n"
     ]
    }
   ],
   "metadata": {}
  }
 ],
 "metadata": {
  "celltoolbar": "原始单元格格式",
  "interpreter": {
   "hash": "e134e05457d34029b6460cd73bbf1ed73f339b5b6d98c95be70b69eba114fe95"
  },
  "kernelspec": {
   "name": "python3",
   "display_name": "Python 3.8.5 64-bit ('base': conda)"
  },
  "language_info": {
   "codemirror_mode": {
    "name": "ipython",
    "version": 3
   },
   "file_extension": ".py",
   "mimetype": "text/x-python",
   "name": "python",
   "nbconvert_exporter": "python",
   "pygments_lexer": "ipython3",
   "version": "3.8.5"
  },
  "toc": {
   "base_numbering": 1,
   "nav_menu": {
    "height": "420px",
    "width": "343px"
   },
   "number_sections": true,
   "sideBar": true,
   "skip_h1_title": false,
   "title_cell": "Table of Contents",
   "title_sidebar": "Contents",
   "toc_cell": false,
   "toc_position": {
    "height": "calc(100% - 180px)",
    "left": "10px",
    "top": "150px",
    "width": "721.6px"
   },
   "toc_section_display": true,
   "toc_window_display": false
  },
  "toc-autonumbering": true,
  "toc-showmarkdowntxt": true
 },
 "nbformat": 4,
 "nbformat_minor": 4
}