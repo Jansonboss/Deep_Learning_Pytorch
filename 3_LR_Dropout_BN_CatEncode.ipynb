{
 "cells": [
  {
   "cell_type": "code",
   "execution_count": 2,
   "source": [
    "import pandas as pd\n",
    "import torch\n",
    "import torch.nn as nn\n",
    "from torch.utils.data import Dataset, DataLoader\n",
    "import torch.optim as optim\n",
    "import matplotlib.pyplot as plt"
   ],
   "outputs": [],
   "metadata": {}
  },
  {
   "cell_type": "markdown",
   "source": [
    "In this notebook, we will be covering following topics:\n",
    "\n",
    "- Learning Rate Schedule\n",
    "- Dropout component"
   ],
   "metadata": {}
  },
  {
   "cell_type": "markdown",
   "source": [
    "# **Learning Rate Schedule**"
   ],
   "metadata": {}
  },
  {
   "cell_type": "code",
   "execution_count": 4,
   "source": [
    "# simple 2 layers NN\n",
    "model = nn.Sequential(\n",
    "\tnn.Linear(2, 5),\n",
    "\tnn.ReLU(),\n",
    "\tnn.Linear(5, 1)\n",
    ")\n",
    "\n",
    "optimizer = optim.Adam(model.parameters(), lr = 0.001)"
   ],
   "outputs": [],
   "metadata": {}
  },
  {
   "cell_type": "markdown",
   "source": [
    "We can group the parameters of our model into different groups (will be used for transfer learning later)\n",
    "\n",
    "- here we only have one group ( each group will be in one list)\n",
    "- note the learning rate below is 0.001"
   ],
   "metadata": {}
  },
  {
   "cell_type": "code",
   "execution_count": 15,
   "source": [
    "optimizer.param_groups"
   ],
   "outputs": [
    {
     "output_type": "execute_result",
     "data": {
      "text/plain": [
       "[{'params': [Parameter containing:\n",
       "   tensor([[ 0.2197, -0.3686],\n",
       "           [-0.4251, -0.1346],\n",
       "           [-0.2628,  0.6199],\n",
       "           [-0.1249,  0.3726],\n",
       "           [ 0.0527,  0.5060]], requires_grad=True),\n",
       "   Parameter containing:\n",
       "   tensor([-0.0067, -0.4347,  0.1457, -0.4703,  0.5562], requires_grad=True),\n",
       "   Parameter containing:\n",
       "   tensor([[-0.0317, -0.1654,  0.3326,  0.2197, -0.3974]], requires_grad=True),\n",
       "   Parameter containing:\n",
       "   tensor([-0.3169], requires_grad=True)],\n",
       "  'lr': 0.0007810416889260659,\n",
       "  'betas': (0.9, 0.999),\n",
       "  'eps': 1e-08,\n",
       "  'weight_decay': 0,\n",
       "  'amsgrad': False,\n",
       "  'initial_lr': 0.001}]"
      ]
     },
     "metadata": {},
     "execution_count": 15
    }
   ],
   "metadata": {}
  },
  {
   "cell_type": "markdown",
   "source": [
    "# why do you think we are getting an error here?\n"
   ],
   "metadata": {}
  },
  {
   "cell_type": "code",
   "execution_count": 8,
   "source": [
    "# for every 100 iterations, we gonna change the learning rate\n",
    "lr_scheduler = torch.optim.lr_scheduler.CosineAnnealingLR(optimizer, 100)\n",
    "\n",
    "# why do you think we are getting an error here?\n",
    "print(optimizer.param_groups[0]['lr'])\n",
    "lr_scheduler.step()\n",
    "print(optimizer.param_groups[0]['lr'])"
   ],
   "outputs": [
    {
     "output_type": "stream",
     "name": "stdout",
     "text": [
      "0.001\n",
      "0.0009997532801828658\n"
     ]
    },
    {
     "output_type": "stream",
     "name": "stderr",
     "text": [
      "/usr/local/anaconda3/lib/python3.8/site-packages/torch/optim/lr_scheduler.py:129: UserWarning: Detected call of `lr_scheduler.step()` before `optimizer.step()`. In PyTorch 1.1.0 and later, you should call them in the opposite order: `optimizer.step()` before `lr_scheduler.step()`.  Failure to do this will result in PyTorch skipping the first value of the learning rate schedule. See more details at https://pytorch.org/docs/stable/optim.html#how-to-adjust-learning-rate\n",
      "  warnings.warn(\"Detected call of `lr_scheduler.step()` before `optimizer.step()`. \"\n"
     ]
    }
   ],
   "metadata": {}
  },
  {
   "cell_type": "markdown",
   "source": [
    "the optimizer.step() call is skipped and thus the learning rate scheduler is called before the first parameter update.\n",
    "We are working on a method to get the last status of the scaler. In the meantime you could try to check if the scale value was reduced and if so skip the learning rate scheduler step."
   ],
   "metadata": {}
  },
  {
   "cell_type": "markdown",
   "source": [
    "# Example\n",
    "\n",
    "https://pytorch.org/docs/stable/optim.html\n",
    "\n",
    "```raw\n",
    "model = [Parameter(torch.randn(2, 2, requires_grad=True))]\n",
    "optimizer = SGD(model, 0.1)\n",
    "scheduler = ExponentialLR(optimizer, gamma=0.9) # optim.lr_scheduler.ExponentialLR()\n",
    "\n",
    "for epoch in range(20):\n",
    "    for input, target in dataset:\n",
    "        optimizer.zero_grad()\n",
    "        output = model(input)\n",
    "        loss = loss_fn(output, target)\n",
    "        loss.backward()\n",
    "        optimizer.step()\n",
    "    scheduler.step()\n",
    "```\n"
   ],
   "metadata": {}
  },
  {
   "cell_type": "code",
   "execution_count": 14,
   "source": [
    "lr_lists = []\n",
    "for i in range(500):\n",
    "\tlr_scheduler.step()\n",
    "\tlr = optimizer.param_groups[0][\"lr\"]\n",
    "\tlr_lists.append(lr)\n",
    "\n",
    "plt.plot(lr_lists)"
   ],
   "outputs": [
    {
     "output_type": "execute_result",
     "data": {
      "text/plain": [
       "[<matplotlib.lines.Line2D at 0x7fdc68393610>]"
      ]
     },
     "metadata": {},
     "execution_count": 14
    },
    {
     "output_type": "display_data",
     "data": {
      "image/png": "[encoded data removed]",
      "text/plain": [
       "<Figure size 432x288 with 1 Axes>"
      ]
     },
     "metadata": {
      "needs_background": "light"
     }
    }
   ],
   "metadata": {}
  },
  {
   "cell_type": "markdown",
   "source": [
    "# Dropout\n",
    "\n",
    "During training, some number of layer outputs are randomly ignored or “dropped out.” This has the effect of making the layer look-like and be treated-like a layer with a different number of nodes and connectivity to the prior layer. In effect, each update to a layer during training is performed with a different “view” of the configured layer.\n",
    "\n",
    "Dropout has the effect of making the training process noisy, forcing nodes within a layer to probabilistically take on more or less responsibility for the inputs.\n",
    "\n",
    "\n",
    "![example](./img/dropout-capture.gif)"
   ],
   "metadata": {}
  },
  {
   "cell_type": "markdown",
   "source": [
    "\n",
    "\n",
    "## Why we need Dropout?\n",
    "\n",
    "- An unregularized network quickly overfits on the training dataset. Notice how the validation loss for without-dropout run diverges a lot after just a few epochs. This accounts for the higher generalization error. \n",
    "\n",
    "- Training with two dropout layers with a dropout probability of 25% prevents model from overfitting. However, this brings down the training accuracy, which means a regularized network has to be trained longer. \n",
    "\n",
    "- Dropout improves the model generalization. Even though the training accuracy is lower than the unregularized network, the overall validation accuracy has improved. This accounts for a lower generalization error. \n",
    "\n",
    "</br>\n",
    "\n",
    "https://zhang-yang.medium.com/scaling-in-neural-network-dropout-layers-with-pytorch-code-example-11436098d426\n",
    "\n",
    "https://wandb.ai/authors/ayusht/reports/Dropout-in-PyTorch-An-Example--VmlldzoxNTgwOTE"
   ],
   "metadata": {}
  },
  {
   "cell_type": "markdown",
   "source": [
    "# How it looks like inside ?\n",
    "\n",
    "The each element in the weight matrix follow Bernouli Distribution and have `p` probability to be zero-outed.\n",
    "![example](./img/dropout_weights.png)"
   ],
   "metadata": {}
  },
  {
   "cell_type": "code",
   "execution_count": null,
   "source": [],
   "outputs": [],
   "metadata": {}
  },
  {
   "cell_type": "markdown",
   "source": [
    "In the document, it says\n",
    "\n",
    "> During trraining, randomly zeroes some of the elements of the input tensor with probability `p` using samples from a Bernoulli Distribution. The elements to zeros are randomized on every forward call. And furthermore, the outputs are scaled by a factor of `1 / (1  - p)` during the training.\n",
    "\n",
    "\n",
    "This essentially is saying the layer `nn.Dropout(p)` will randomly zero out the elements on the input tensor with the probability `p`, the dropout rate. The result tensor will be scaled by `1 / (1 - p)` (divied by `(1 - p)`) during the training time\n",
    "\n",
    "Check it out: https://zhang-yang.medium.com/scaling-in-neural-network-dropout-layers-with-pytorch-code-example-11436098d426\n",
    "\n",
    "**and Let's see an example:**"
   ],
   "metadata": {}
  },
  {
   "cell_type": "code",
   "execution_count": 19,
   "source": [
    "drop = nn.Dropout(p = 0.8)\n",
    "x = torch.ones((1000, 1000))\n",
    "\n",
    "print(x)\n",
    "\n",
    "y = drop(x)\n",
    "print(y)"
   ],
   "outputs": [
    {
     "output_type": "stream",
     "name": "stdout",
     "text": [
      "tensor([[1., 1., 1.,  ..., 1., 1., 1.],\n",
      "        [1., 1., 1.,  ..., 1., 1., 1.],\n",
      "        [1., 1., 1.,  ..., 1., 1., 1.],\n",
      "        ...,\n",
      "        [1., 1., 1.,  ..., 1., 1., 1.],\n",
      "        [1., 1., 1.,  ..., 1., 1., 1.],\n",
      "        [1., 1., 1.,  ..., 1., 1., 1.]])\n",
      "tensor([[0., 0., 0.,  ..., 5., 0., 0.],\n",
      "        [5., 0., 0.,  ..., 5., 0., 0.],\n",
      "        [0., 0., 5.,  ..., 0., 0., 0.],\n",
      "        ...,\n",
      "        [0., 0., 0.,  ..., 0., 0., 0.],\n",
      "        [0., 0., 0.,  ..., 0., 0., 0.],\n",
      "        [5., 0., 0.,  ..., 0., 5., 0.]])\n"
     ]
    }
   ],
   "metadata": {}
  },
  {
   "cell_type": "code",
   "execution_count": 23,
   "source": [
    "torch.count_nonzero(y) / (1000*1000)\n",
    "# we can see roughly 20% of the element in tensor are non-zeros (80% are zero-outed)\n",
    "# and those 20% non-zero element would be scaled up from 1 to 5 <===> 1 / (1 - 0.8) = 5 (scaled it back )"
   ],
   "outputs": [
    {
     "output_type": "execute_result",
     "data": {
      "text/plain": [
       "tensor(0.2005)"
      ]
     },
     "metadata": {},
     "execution_count": 23
    }
   ],
   "metadata": {}
  },
  {
   "cell_type": "markdown",
   "source": [
    "# Why we need to scale the results during training?\n",
    "\n",
    "And we have a another seneraio in evalidation.\n",
    "\n",
    "> This means that during the evaludation the modeule simple computes an identity functions\n",
    "\n",
    "This means that during the evaluation time, the dropout layer will change nothing.\n",
    "\n",
    "Because `dropout` is active only during training time but not inference time, without the scaling, the expected output would be larger during inference time because the elements are no longer being randomly dropped (set to 0). But we want the expected output with and without going through the dropout layer to be the same. Therefore, during training, we compensate by making the output of the dropout layer larger by the scaling factor of `1/(1−p)`. A larger p means more aggressive dropout, which means the more compensation we need, i.e. the larger the scaling factor `1/(1−p)`."
   ],
   "metadata": {}
  },
  {
   "cell_type": "code",
   "execution_count": 27,
   "source": [
    "print(x.mean()) # during training before dropout\n"
   ],
   "outputs": [
    {
     "output_type": "stream",
     "name": "stdout",
     "text": [
      "tensor(1.)\n"
     ]
    }
   ],
   "metadata": {}
  },
  {
   "cell_type": "code",
   "execution_count": 28,
   "source": [
    "print(y.mean()) # during training after dropouted"
   ],
   "outputs": [
    {
     "output_type": "stream",
     "name": "stdout",
     "text": [
      "tensor(1.0025)\n"
     ]
    }
   ],
   "metadata": {}
  },
  {
   "cell_type": "markdown",
   "source": [
    "we can see above that input x and output dropped y will be the roughly the same （这里都是training time)\n",
    "因为在inference的时候我们没有做zero out这个动作，会导致inference 的tensor数值要普遍大于 training的时候（"
   ],
   "metadata": {}
  },
  {
   "cell_type": "markdown",
   "source": [
    "# Summary\n",
    "- model.eval() will keep the output at the same scale.\n",
    "- This basically says during evaluation/test/inference time, the dropout layer becomes an identity function and makes no change to its input.\n",
    "- Dropout component is really just adding noise with mean = 0 "
   ],
   "metadata": {}
  },
  {
   "cell_type": "markdown",
   "source": [],
   "metadata": {}
  },
  {
   "cell_type": "markdown",
   "source": [],
   "metadata": {}
  },
  {
   "cell_type": "code",
   "execution_count": null,
   "source": [],
   "outputs": [],
   "metadata": {}
  },
  {
   "cell_type": "code",
   "execution_count": null,
   "source": [],
   "outputs": [],
   "metadata": {}
  },
  {
   "cell_type": "code",
   "execution_count": null,
   "source": [],
   "outputs": [],
   "metadata": {}
  },
  {
   "cell_type": "code",
   "execution_count": null,
   "source": [],
   "outputs": [],
   "metadata": {}
  },
  {
   "cell_type": "code",
   "execution_count": null,
   "source": [],
   "outputs": [],
   "metadata": {}
  },
  {
   "cell_type": "markdown",
   "source": [
    "# **Categorical Embedding**"
   ],
   "metadata": {}
  },
  {
   "cell_type": "code",
   "execution_count": null,
   "source": [],
   "outputs": [],
   "metadata": {}
  }
 ],
 "metadata": {
  "kernelspec": {
   "name": "python3",
   "display_name": "Python 3.8.5 64-bit ('base': conda)"
  },
  "language_info": {
   "codemirror_mode": {
    "name": "ipython",
    "version": 3
   },
   "file_extension": ".py",
   "mimetype": "text/x-python",
   "name": "python",
   "nbconvert_exporter": "python",
   "pygments_lexer": "ipython3",
   "version": "3.8.5"
  },
  "interpreter": {
   "hash": "e134e05457d34029b6460cd73bbf1ed73f339b5b6d98c95be70b69eba114fe95"
  }
 },
 "nbformat": 4,
 "nbformat_minor": 5
}