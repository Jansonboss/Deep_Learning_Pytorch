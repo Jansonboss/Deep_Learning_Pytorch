{
 "cells": [
  {
   "cell_type": "code",
   "execution_count": 2,
   "metadata": {},
   "outputs": [],
   "source": [
    "import pandas as pd\n",
    "import torch\n",
    "import torch.nn as nn\n",
    "from torch.utils.data import Dataset, DataLoader\n",
    "import torch.optim as optim\n",
    "import matplotlib.pyplot as plt"
   ]
  },
  {
   "cell_type": "markdown",
   "metadata": {},
   "source": [
    "In this notebook, we will be covering following topics:\n",
    "\n",
    "- Learning Rate Schedule\n",
    "- Dropout component\n",
    "- Normalization (BN, LN, ...)"
   ]
  },
  {
   "cell_type": "markdown",
   "metadata": {},
   "source": [
    "# **Learning Rate Schedule**"
   ]
  },
  {
   "cell_type": "code",
   "execution_count": 2,
   "metadata": {},
   "outputs": [],
   "source": [
    "# simple 2 layers NN\n",
    "model = nn.Sequential(\n",
    "\tnn.Linear(2, 5),\n",
    "\tnn.ReLU(),\n",
    "\tnn.Linear(5, 1)\n",
    ")\n",
    "\n",
    "optimizer = optim.Adam(model.parameters(), lr = 0.001)"
   ]
  },
  {
   "cell_type": "markdown",
   "metadata": {},
   "source": [
    "We can group the parameters of our model into different groups (will be used for transfer learning later)\n",
    "\n",
    "- here we only have one group ( each group will be in one list)\n",
    "- note the learning rate below is 0.001"
   ]
  },
  {
   "cell_type": "code",
   "execution_count": 15,
   "metadata": {},
   "outputs": [
    {
     "data": {
      "text/plain": [
       "[{'params': [Parameter containing:\n",
       "   tensor([[ 0.2197, -0.3686],\n",
       "           [-0.4251, -0.1346],\n",
       "           [-0.2628,  0.6199],\n",
       "           [-0.1249,  0.3726],\n",
       "           [ 0.0527,  0.5060]], requires_grad=True),\n",
       "   Parameter containing:\n",
       "   tensor([-0.0067, -0.4347,  0.1457, -0.4703,  0.5562], requires_grad=True),\n",
       "   Parameter containing:\n",
       "   tensor([[-0.0317, -0.1654,  0.3326,  0.2197, -0.3974]], requires_grad=True),\n",
       "   Parameter containing:\n",
       "   tensor([-0.3169], requires_grad=True)],\n",
       "  'lr': 0.0007810416889260659,\n",
       "  'betas': (0.9, 0.999),\n",
       "  'eps': 1e-08,\n",
       "  'weight_decay': 0,\n",
       "  'amsgrad': False,\n",
       "  'initial_lr': 0.001}]"
      ]
     },
     "execution_count": 15,
     "metadata": {},
     "output_type": "execute_result"
    }
   ],
   "source": [
    "optimizer.param_groups"
   ]
  },
  {
   "cell_type": "markdown",
   "metadata": {},
   "source": [
    "# Why do you think we are getting an error here?\n"
   ]
  },
  {
   "cell_type": "code",
   "execution_count": 3,
   "metadata": {},
   "outputs": [
    {
     "name": "stdout",
     "output_type": "stream",
     "text": [
      "0.001\n",
      "0.0009997532801828658\n"
     ]
    },
    {
     "name": "stderr",
     "output_type": "stream",
     "text": [
      "/usr/local/anaconda3/lib/python3.8/site-packages/torch/optim/lr_scheduler.py:129: UserWarning: Detected call of `lr_scheduler.step()` before `optimizer.step()`. In PyTorch 1.1.0 and later, you should call them in the opposite order: `optimizer.step()` before `lr_scheduler.step()`.  Failure to do this will result in PyTorch skipping the first value of the learning rate schedule. See more details at https://pytorch.org/docs/stable/optim.html#how-to-adjust-learning-rate\n",
      "  warnings.warn(\"Detected call of `lr_scheduler.step()` before `optimizer.step()`. \"\n"
     ]
    }
   ],
   "source": [
    "# for every 100 iterations, we gonna change the learning rate\n",
    "lr_scheduler = torch.optim.lr_scheduler.CosineAnnealingLR(optimizer, 100)\n",
    "\n",
    "# why do you think we are getting an error here?\n",
    "print(optimizer.param_groups[0]['lr'])\n",
    "lr_scheduler.step()\n",
    "print(optimizer.param_groups[0]['lr'])"
   ]
  },
  {
   "cell_type": "markdown",
   "metadata": {},
   "source": [
    "the optimizer.step() call is skipped and thus the learning rate scheduler is called before the first parameter update.\n",
    "We are working on a method to get the last status of the scaler. In the meantime you could try to check if the scale value was reduced and if so skip the learning rate scheduler step."
   ]
  },
  {
   "cell_type": "markdown",
   "metadata": {},
   "source": [
    "# Example\n",
    "\n",
    "https://pytorch.org/docs/stable/optim.html\n",
    "\n",
    "```raw\n",
    "model = [Parameter(torch.randn(2, 2, requires_grad=True))]\n",
    "optimizer = SGD(model, 0.1)\n",
    "scheduler = ExponentialLR(optimizer, gamma=0.9) # optim.lr_scheduler.ExponentialLR()\n",
    "\n",
    "for epoch in range(20):\n",
    "    for input, target in dataset:\n",
    "        optimizer.zero_grad()\n",
    "        output = model(input)\n",
    "        loss = loss_fn(output, target)\n",
    "        loss.backward()\n",
    "        optimizer.step()\n",
    "    scheduler.step()\n",
    "```\n"
   ]
  },
  {
   "cell_type": "code",
   "execution_count": 4,
   "metadata": {},
   "outputs": [
    {
     "data": {
      "text/plain": [
       "[<matplotlib.lines.Line2D at 0x7fa150c62520>]"
      ]
     },
     "execution_count": 4,
     "metadata": {},
     "output_type": "execute_result"
    },
    {
     "data": {
      "image/png": "[encoded data removed]",
      "text/plain": [
       "<Figure size 432x288 with 1 Axes>"
      ]
     },
     "metadata": {
      "needs_background": "light"
     },
     "output_type": "display_data"
    }
   ],
   "source": [
    "lr_lists = []\n",
    "for i in range(500):\n",
    "\tlr_scheduler.step()\n",
    "\tlr = optimizer.param_groups[0][\"lr\"]\n",
    "\tlr_lists.append(lr)\n",
    "\n",
    "plt.plot(lr_lists)"
   ]
  },
  {
   "cell_type": "markdown",
   "metadata": {},
   "source": [
    "# Dropout\n",
    "\n",
    "During training, some number of layer outputs are randomly ignored or “dropped out.” This has the effect of making the layer look-like and be treated-like a layer with a different number of nodes and connectivity to the prior layer. In effect, each update to a layer during training is performed with a different “view” of the configured layer.\n",
    "\n",
    "Dropout has the effect of making the training process noisy, forcing nodes within a layer to probabilistically take on more or less responsibility for the inputs.\n",
    "\n",
    "\n",
    "\n",
    "<img src=\"./img/dropout-capture.gif\" alt=\"drawing\" width=\"700\"/>\n"
   ]
  },
  {
   "cell_type": "code",
   "execution_count": null,
   "metadata": {},
   "outputs": [],
   "source": [
    "\n",
    "# model with Dropout\n",
    "class TwoLayerNN_drop(nn.Module):\n",
    "    def __init__(self, input_dim, hidden_dim, output_dim):\n",
    "        super(TwoLayerNN_drop, self).__init__()\n",
    "        self.linear1 = nn.Linear(input_dim, hidden_dim)\n",
    "        self.linear2 = nn.Linear(hidden_dim, output_dim)\n",
    "        self.relu = nn.ReLU()\n",
    "        self.dropout = nn.Dropout(p=.25)\n",
    "        \n",
    "    def forward(self, x):\n",
    "        x = self.linear1(x)\n",
    "        x = self.relu(x)\n",
    "        \n",
    "        # Add some dropout after first layer\n",
    "        x = self.dropout(x)\n",
    "        \n",
    "        x = self.linear2(x)\n",
    "        return torch.squeeze(x)"
   ]
  },
  {
   "cell_type": "markdown",
   "metadata": {},
   "source": [
    "\n",
    "\n",
    "## Why we need Dropout?\n",
    "\n",
    "- An unregularized network quickly overfits on the training dataset. Notice how the validation loss for without-dropout run diverges a lot after just a few epochs. This accounts for the higher generalization error. \n",
    "\n",
    "- Training with two dropout layers with a dropout probability of 25% prevents model from overfitting. However, this brings down the training accuracy, which means a regularized network has to be trained longer. \n",
    "\n",
    "- Dropout improves the model generalization. Even though the training accuracy is lower than the unregularized network, the overall validation accuracy has improved. This accounts for a lower generalization error. \n",
    "\n",
    "\n",
    "\n",
    "Some useful links:\n",
    "\n",
    "- https://zhang-yang.medium.com/scaling-in-neural-network-dropout-layers-with-pytorch-code-example-11436098d426\n",
    "\n",
    "- https://wandb.ai/authors/ayusht/reports/Dropout-in-PyTorch-An-Example--VmlldzoxNTgwOTE"
   ]
  },
  {
   "cell_type": "markdown",
   "metadata": {},
   "source": [
    "# How it looks like inside ?\n",
    "\n",
    "There're 2 steps inside the dropout\n",
    "\n",
    "Step1: The each element in the weight matrix follow Bernouli Distribution and have `p` probability to be zero-outed. And some elements in the weight matrix will be reduced to zero like below:\n",
    "\n",
    "<img src=\"./img/dropout_weights.png\" alt=\"drawing\" width=\"700\"/>\n"
   ]
  },
  {
   "cell_type": "markdown",
   "metadata": {},
   "source": [
    "Step2: Scaled out other non-zero elements in the weight matrix proportionally with factor of `1 / (1  - p)`\n",
    "\n",
    "> During trraining, randomly zeroes some of the elements of the input tensor with probability `p` using samples from a Bernoulli Distribution. The elements to zeros are randomized on every forward call. And furthermore, the outputs are scaled by a factor of `1 / (1  - p)` during the training.\n",
    "\n",
    "\n",
    "This essentially is saying the layer `nn.Dropout(p)` will randomly zero out the elements on the input tensor with the probability `p`, the dropout rate. The result tensor will be scaled by `1 / (1 - p)` (divied by `(1 - p)`) during the training time\n",
    "\n",
    "Check it out: https://zhang-yang.medium.com/scaling-in-neural-network-dropout-layers-with-pytorch-code-example-11436098d426\n",
    "\n",
    "**and Let's see an example:**"
   ]
  },
  {
   "cell_type": "code",
   "execution_count": 5,
   "metadata": {},
   "outputs": [
    {
     "name": "stdout",
     "output_type": "stream",
     "text": [
      "tensor([[1., 1., 1.,  ..., 1., 1., 1.],\n",
      "        [1., 1., 1.,  ..., 1., 1., 1.],\n",
      "        [1., 1., 1.,  ..., 1., 1., 1.],\n",
      "        ...,\n",
      "        [1., 1., 1.,  ..., 1., 1., 1.],\n",
      "        [1., 1., 1.,  ..., 1., 1., 1.],\n",
      "        [1., 1., 1.,  ..., 1., 1., 1.]])\n",
      "tensor([[5., 0., 0.,  ..., 5., 0., 0.],\n",
      "        [0., 0., 0.,  ..., 0., 0., 0.],\n",
      "        [0., 0., 0.,  ..., 5., 0., 0.],\n",
      "        ...,\n",
      "        [5., 0., 0.,  ..., 0., 0., 5.],\n",
      "        [0., 0., 5.,  ..., 0., 0., 5.],\n",
      "        [5., 0., 5.,  ..., 0., 0., 0.]])\n"
     ]
    }
   ],
   "source": [
    "drop = nn.Dropout(p = 0.8)\n",
    "x = torch.ones((1000, 1000))\n",
    "\n",
    "print(x)\n",
    "\n",
    "y = drop(x)\n",
    "print(y)"
   ]
  },
  {
   "cell_type": "code",
   "execution_count": 6,
   "metadata": {},
   "outputs": [
    {
     "data": {
      "text/plain": [
       "tensor(0.2002)"
      ]
     },
     "execution_count": 6,
     "metadata": {},
     "output_type": "execute_result"
    }
   ],
   "source": [
    "torch.count_nonzero(y) / (1000*1000)\n",
    "# we can see roughly 20% of the element in tensor are non-zeros (80% are zero-outed)\n",
    "# and those 20% non-zero element would be scaled up from 1 to 5 <===> 1 / (1 - 0.8) = 5 (scaled it back )"
   ]
  },
  {
   "cell_type": "markdown",
   "metadata": {},
   "source": [
    "# Why we need to scale the results during training?\n",
    "\n",
    "We can explain this by having an another seneraio in evalidation.\n",
    "\n",
    "> During the evaludation the modeule simple computes an identity functions. AKA during the evaluation time, the dropout layer will change nothing.\n",
    "\n",
    "Because `dropout` is active only during training time but not inference time, without the scaling, the expected output would be larger during inference time because the elements are no longer being randomly dropped (set to 0). But we want the expected output with and without going through the dropout layer to be the same. Therefore, during training, we compensate by making the output of the dropout layer larger by the scaling factor of `1/(1−p)`. A larger p means more aggressive dropout, which means the more compensation we need, i.e. the larger the scaling factor `1/(1−p)`.\n",
    "\n",
    "In other words, we we are rescaled the weights by adding extra noise without shifting the mean (mean = 0)"
   ]
  },
  {
   "cell_type": "code",
   "execution_count": 7,
   "metadata": {},
   "outputs": [
    {
     "name": "stdout",
     "output_type": "stream",
     "text": [
      "tensor(1.)\n"
     ]
    }
   ],
   "source": [
    "print(x.mean()) # during training before dropout"
   ]
  },
  {
   "cell_type": "code",
   "execution_count": 8,
   "metadata": {},
   "outputs": [
    {
     "name": "stdout",
     "output_type": "stream",
     "text": [
      "tensor(1.0010)\n"
     ]
    }
   ],
   "source": [
    "print(y.mean()) # during training after dropouted"
   ]
  },
  {
   "cell_type": "markdown",
   "metadata": {},
   "source": [
    "We can see above that input x and output dropped y will be the roughly the same （这里都是training time)\n",
    "因为在inference的时候我们没有做zero out这个动作，会导致inference 的tensor数值要普遍大于 training的时候\n",
    "\n",
    "In Summary\n",
    "- `model.eval()` will keep the output at the same scale.\n",
    "- This basically says during evaluation/test/inference time, the dropout layer becomes an identity function and makes no change to its input.\n",
    "- Dropout component is really just adding noise with mean = 0 "
   ]
  },
  {
   "cell_type": "markdown",
   "metadata": {},
   "source": [
    "# **Regularization (Weight Decay)**\n",
    "\n",
    "\n"
   ]
  },
  {
   "cell_type": "code",
   "execution_count": 3,
   "metadata": {},
   "outputs": [],
   "source": [
    "# blowing up weight decay so you can see it in action\n",
    "\n",
    "model = nn.Sequential(nn.Linear(2, 5),\n",
    "                      nn.ReLU(),\n",
    "                      nn.Linear(5, 1))\n",
    "optimizer = optim.SGD(model.parameters(), lr = 0.001, weight_decay = 1000.0)"
   ]
  },
  {
   "cell_type": "code",
   "execution_count": 4,
   "metadata": {},
   "outputs": [
    {
     "name": "stdout",
     "output_type": "stream",
     "text": [
      "Parameter containing:\n",
      "tensor([[ 0.5211,  0.4350],\n",
      "        [ 0.0138, -0.3197],\n",
      "        [-0.3029, -0.4422],\n",
      "        [ 0.6549, -0.0485],\n",
      "        [ 0.1896,  0.4058]], requires_grad=True)\n",
      "Parameter containing:\n",
      "tensor([ 0.3095, -0.3481,  0.5380, -0.1477,  0.6348], requires_grad=True)\n",
      "Parameter containing:\n",
      "tensor([[ 0.1884, -0.2489,  0.0130,  0.2549, -0.4154]], requires_grad=True)\n",
      "Parameter containing:\n",
      "tensor([-0.0845], requires_grad=True)\n"
     ]
    }
   ],
   "source": [
    "# Before Weight Decay\n",
    "for param in model.parameters():\n",
    "    print(param)"
   ]
  },
  {
   "cell_type": "code",
   "execution_count": 6,
   "metadata": {},
   "outputs": [
    {
     "name": "stdout",
     "output_type": "stream",
     "text": [
      "Parameter containing:\n",
      "tensor([[ 3.2645e-04,  3.2642e-04],\n",
      "        [-9.3132e-10,  0.0000e+00],\n",
      "        [ 0.0000e+00,  2.9802e-08],\n",
      "        [ 4.4185e-04,  4.4187e-04],\n",
      "        [-7.1996e-04, -7.1999e-04]], requires_grad=True)\n",
      "Parameter containing:\n",
      "tensor([ 3.2645e-04,  2.9802e-08,  0.0000e+00,  4.4186e-04, -7.1996e-04],\n",
      "       requires_grad=True)\n",
      "Parameter containing:\n",
      "tensor([[ 2.1934e-03,  0.0000e+00, -9.3132e-10,  7.9492e-04,  2.1321e-03]],\n",
      "       requires_grad=True)\n",
      "Parameter containing:\n",
      "tensor([0.0017], requires_grad=True)\n"
     ]
    }
   ],
   "source": [
    "model.train()\n",
    "y = model(torch.ones(10, 2))\n",
    "\n",
    "# train w.r.t a loss function that wants to maximize output\n",
    "(1/sum(y)).backward()\n",
    "optimizer.step()\n",
    "\n",
    "# weights have decreased\n",
    "for param in model.parameters():\n",
    "    print(param)"
   ]
  },
  {
   "cell_type": "markdown",
   "metadata": {},
   "source": [
    "---\n",
    "\n",
    "# **Normalization**\n",
    "\n",
    "\n",
    "In a deep neural network, there is a phenomenon called internal **covariate shift**, which is a change in the input distribution to the network's layers due to the ever-changing network parameters during training.\n",
    "The input layer may have certain features which dominate the process, due to having high numerical values. This can create a bias in the network because only those features contribute to the outcome of the training. For example, imagine feature one having values between 1 and 5, and feature two having values between 100 and 10000. During training, due to the difference in scale of both features, feature two would dominate the network and only that feature would have a contribution to the outcome of the model.\n",
    "\n",
    "Normalization能够解决“Internal Covariate Shift”这种问题。简单理解就是随着层数的增加，中间层的输出会发生“漂移”。另外一种说法是：BN能够解决梯度弥散。通过将输出进行适当的缩放，可以缓解梯度消失的状况。\n",
    "\n",
    "\n",
    "\n",
    "Due to the reasons stated, a concept known as normalization was introduced to resolve these issues.\n",
    "\n",
    "\n",
    "- Reducing the internal covariate shift to improve training\n",
    "- Scaling each feature to a similar range to prevent or reduce bias in the network\n",
    "- Speeding up the optimization process by preventing weights from exploding all over the place and limiting them to a specific range\n",
    "- Reducing overfitting in the network by aiding in regularization (we must normalize before applying lasso, ridge and PCA)"
   ]
  },
  {
   "cell_type": "markdown",
   "metadata": {},
   "source": [
    "# **Normalization Methods**\n",
    "\n",
    "Ypu can check out this paper: https://arxiv.org/pdf/1803.08494.pdf\n",
    "\n",
    "\n",
    "There are several flavors of normalization developed over the years, which include:\n",
    "\n",
    "- Batch normalization\n",
    "- Layer normalization\n",
    "- Instance normalization\n",
    "- Group normalization\n",
    "\n",
    "\n",
    "\n",
    "<img src=\"./img/DL_Norm.png\" alt=\"drawing\" width=\"700\"/>\n",
    "\n",
    "Figure above. Normalization methods. Each subplot shows a feature map tensor, with `N` as the batch axis, `C` as the channel axis, and `(H, W)`\n",
    "as the spatial axes -> `height, and width` . The pixels in blue are normalized by the same `mean` and `variance`, computed by aggregating the values of these pixels.\n",
    "\n",
    "In NLP: `N` will be the batch axis, `C`, the Feature axis (word), and `(H, W)` will be the sentence length."
   ]
  },
  {
   "cell_type": "markdown",
   "metadata": {},
   "source": [
    "## **Batch normalization(BN)**\n",
    "\n",
    "<img src=\"./img/DL_BN.png\" alt=\"drawing\" width=\"700\"/>\n"
   ]
  },
  {
   "cell_type": "code",
   "execution_count": null,
   "metadata": {},
   "outputs": [],
   "source": [
    "\n",
    "# model with batch normalization\n",
    "class TwoLayerNN_BN(nn.Module):\n",
    "    def __init__(self, input_dim, hidden_dim, output_dim):\n",
    "        super(TwoLayerNN_BN, self).__init__()\n",
    "        self.linear1 = nn.Linear(input_dim, hidden_dim)\n",
    "        self.linear2 = nn.Linear(hidden_dim, output_dim)\n",
    "        self.relu = nn.ReLU()\n",
    "        \n",
    "        # we input the number of features to be normalizing across a batch\n",
    "        self.bn = nn.BatchNorm1d(hidden_dim)\n",
    "        \n",
    "    def forward(self, x):\n",
    "        x = self.linear1(x)\n",
    "        \n",
    "        # add batch normalization before activation\n",
    "        x = self.bn(x)\n",
    "        x = self.relu(x)\n",
    "        \n",
    "        x = self.linear2(x)\n",
    "        # no batch norm for final output!\n",
    "        \n",
    "        return torch.squeeze(x)"
   ]
  },
  {
   "cell_type": "markdown",
   "metadata": {},
   "source": [
    "## **Layer Normalization(LN)**\n",
    "\n",
    "<img src=\"./img/DL_LN.png\" alt=\"drawing\" width=\"700\"/>\n",
    "\n",
    "\n",
    "https://zhuanlan.zhihu.com/p/74516930\n",
    "\n",
    "Inspired by the results of Batch Normalization, Geoffrey Hinton et al. proposed Layer Normalization which normalizes the activations along the feature direction instead of mini-batch direction. This overcomes the cons of BN by removing the dependency on batches and makes it easier to apply for RNNs as well.\n",
    "\n",
    "In essence, Layer Normalization normalizes each feature of the activations to zero mean and unit variance. And since many each bacth of data will contain sentences with different lengths, Layer Normalizatiob can handle it more stably than batch normalization\n",
    "\n"
   ]
  },
  {
   "cell_type": "markdown",
   "metadata": {},
   "source": [
    "useful links:\n",
    "\n",
    "1. https://zhuanlan.zhihu.com/p/74516930\n",
    "2. https://arxiv.org/pdf/1803.08494.pdf\n",
    "3. https://ai-pool.com/a/s/normalization-in-deep-learning\n"
   ]
  },
  {
   "cell_type": "markdown",
   "metadata": {},
   "source": [
    "# **Early Stopping**"
   ]
  },
  {
   "cell_type": "code",
   "execution_count": null,
   "metadata": {},
   "outputs": [],
   "source": []
  }
 ],
 "metadata": {
  "interpreter": {
   "hash": "3067ead486e059ec00ffe7555bdb889e6e264a24dc711bf108106cc7baee8d5d"
  },
  "kernelspec": {
   "display_name": "Python 3.8.5 64-bit ('base': conda)",
   "name": "python3"
  },
  "language_info": {
   "codemirror_mode": {
    "name": "ipython",
    "version": 3
   },
   "file_extension": ".py",
   "mimetype": "text/x-python",
   "name": "python",
   "nbconvert_exporter": "python",
   "pygments_lexer": "ipython3",
   "version": "3.8.5"
  }
 },
 "nbformat": 4,
 "nbformat_minor": 5
}
